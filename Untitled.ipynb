{
 "cells": [
  {
   "cell_type": "raw",
   "id": "a2d91eb6",
   "metadata": {},
   "source": [
    "!pip install antlr4-python3-runtime==4.12.0"
   ]
  },
  {
   "cell_type": "code",
   "execution_count": 1,
   "id": "ff7cf8bb",
   "metadata": {},
   "outputs": [],
   "source": [
    "from dj.sql.parsing.backends.antlr4 import parse, parse_statement, print_tree, ast"
   ]
  },
  {
   "cell_type": "code",
   "execution_count": 2,
   "id": "7a811f12",
   "metadata": {},
   "outputs": [],
   "source": [
    "query = \"\"\"\n",
    "-- start query 2 in stream 0 using template query2.tpl\n",
    "WITH wscs\n",
    "     AS (SELECT sold_date_sk,\n",
    "                sales_price\n",
    "         FROM   (SELECT ws_sold_date_sk    sold_date_sk,\n",
    "                        ws_ext_sales_price sales_price\n",
    "                 FROM   web_sales)\n",
    "         UNION ALL\n",
    "         (SELECT cs_sold_date_sk    sold_date_sk,\n",
    "                 cs_ext_sales_price sales_price\n",
    "          FROM   catalog_sales)),\n",
    "     wswscs\n",
    "     AS (SELECT d_week_seq,\n",
    "                Sum(CASE\n",
    "                      WHEN ( d_day_name = 'Sunday' ) THEN sales_price\n",
    "                      ELSE NULL\n",
    "                    END) sun_sales,\n",
    "                Sum(CASE\n",
    "                      WHEN ( d_day_name = 'Monday' ) THEN sales_price\n",
    "                      ELSE NULL\n",
    "                    END) mon_sales,\n",
    "                Sum(CASE\n",
    "                      WHEN ( d_day_name = 'Tuesday' ) THEN sales_price\n",
    "                      ELSE NULL\n",
    "                    END) tue_sales,\n",
    "                Sum(CASE\n",
    "                      WHEN ( d_day_name = 'Wednesday' ) THEN sales_price\n",
    "                      ELSE NULL\n",
    "                    END) wed_sales,\n",
    "                Sum(CASE\n",
    "                      WHEN ( d_day_name = 'Thursday' ) THEN sales_price\n",
    "                      ELSE NULL\n",
    "                    END) thu_sales,\n",
    "                Sum(CASE\n",
    "                      WHEN ( d_day_name = 'Friday' ) THEN sales_price\n",
    "                      ELSE NULL\n",
    "                    END) fri_sales,\n",
    "                Sum(CASE\n",
    "                      WHEN ( d_day_name = 'Saturday' ) THEN sales_price\n",
    "                      ELSE NULL\n",
    "                    END) sat_sales\n",
    "         FROM   wscs,\n",
    "                date_dim\n",
    "         WHERE  d_date_sk = sold_date_sk\n",
    "         GROUP  BY d_week_seq)\n",
    "SELECT d_week_seq1,\n",
    "       Round(sun_sales1 / sun_sales2, 2),\n",
    "       Round(mon_sales1 / mon_sales2, 2),\n",
    "       Round(tue_sales1 / tue_sales2, 2),\n",
    "       Round(wed_sales1 / wed_sales2, 2),\n",
    "       Round(thu_sales1 / thu_sales2, 2),\n",
    "       Round(fri_sales1 / fri_sales2, 2),\n",
    "       Round(sat_sales1 / sat_sales2, 2)\n",
    "FROM   (SELECT wswscs.d_week_seq d_week_seq1,\n",
    "               sun_sales         sun_sales1,\n",
    "               mon_sales         mon_sales1,\n",
    "               tue_sales         tue_sales1,\n",
    "               wed_sales         wed_sales1,\n",
    "               thu_sales         thu_sales1,\n",
    "               fri_sales         fri_sales1,\n",
    "               sat_sales         sat_sales1\n",
    "        FROM   wswscs,\n",
    "               date_dim\n",
    "        WHERE  date_dim.d_week_seq = wswscs.d_week_seq\n",
    "               AND d_year = 1998) y,\n",
    "       (SELECT wswscs.d_week_seq d_week_seq2,\n",
    "               sun_sales         sun_sales2,\n",
    "               mon_sales         mon_sales2,\n",
    "               tue_sales         tue_sales2,\n",
    "               wed_sales         wed_sales2,\n",
    "               thu_sales         thu_sales2,\n",
    "               fri_sales         fri_sales2,\n",
    "               sat_sales         sat_sales2\n",
    "        FROM   wswscs,\n",
    "               date_dim\n",
    "        WHERE  date_dim.d_week_seq = wswscs.d_week_seq\n",
    "               AND d_year = 1998 + 1) z\n",
    "WHERE  d_week_seq1 = d_week_seq2 - 53\n",
    "ORDER  BY d_week_seq1;\n",
    "\"\"\""
   ]
  },
  {
   "cell_type": "code",
   "execution_count": 3,
   "id": "9ccf2678",
   "metadata": {},
   "outputs": [],
   "source": [
    "query =\"\"\"\n",
    "SELECT name, age, (\n",
    "    SELECT COUNT(*) \n",
    "    FROM sample_table st \n",
    "    WHERE st.age < sample_table.age\n",
    "    ORDER BY 1\n",
    ") AS older_count\n",
    "FROM sample_table;\n",
    "\"\"\""
   ]
  },
  {
   "cell_type": "code",
   "execution_count": 16,
   "id": "6cbda968",
   "metadata": {
    "scrolled": true
   },
   "outputs": [
    {
     "name": "stdout",
     "output_type": "stream",
     "text": [
      "29.1 ms ± 1.55 ms per loop (mean ± std. dev. of 7 runs, 10 loops each)\n"
     ]
    }
   ],
   "source": [
    "%timeit (parse_statement(query))"
   ]
  },
  {
   "cell_type": "code",
   "execution_count": 14,
   "id": "84e0510b",
   "metadata": {
    "scrolled": true
   },
   "outputs": [
    {
     "ename": "AttributeError",
     "evalue": "'str' object has no attribute 'identifier'",
     "output_type": "error",
     "traceback": [
      "\u001b[0;31m---------------------------------------------------------------------------\u001b[0m",
      "\u001b[0;31mAttributeError\u001b[0m                            Traceback (most recent call last)",
      "Cell \u001b[0;32mIn[14], line 1\u001b[0m\n\u001b[0;32m----> 1\u001b[0m \u001b[43mast\u001b[49m\u001b[38;5;241;43m.\u001b[39;49m\u001b[43mColumn\u001b[49m\u001b[43m(\u001b[49m\u001b[43mast\u001b[49m\u001b[38;5;241;43m.\u001b[39;49m\u001b[43mName\u001b[49m\u001b[43m(\u001b[49m\u001b[38;5;124;43m'\u001b[39;49m\u001b[38;5;124;43mx\u001b[39;49m\u001b[38;5;124;43m'\u001b[39;49m\u001b[43m)\u001b[49m\u001b[43m)\u001b[49m\u001b[38;5;241;43m.\u001b[39;49m\u001b[43mname\u001b[49m\u001b[38;5;241;43m.\u001b[39;49m\u001b[43mname\u001b[49m\u001b[38;5;241;43m.\u001b[39;49m\u001b[43midentifier\u001b[49m(\u001b[38;5;28;01mFalse\u001b[39;00m)\n",
      "\u001b[0;31mAttributeError\u001b[0m: 'str' object has no attribute 'identifier'"
     ]
    }
   ],
   "source": [
    "ast.Column(ast.Name('x')).name.name.identifier(False)"
   ]
  },
  {
   "cell_type": "code",
   "execution_count": 17,
   "id": "6c1c73bb",
   "metadata": {},
   "outputs": [],
   "source": [
    "tree = parse(query)"
   ]
  },
  {
   "cell_type": "code",
   "execution_count": 18,
   "id": "0cdd7682",
   "metadata": {},
   "outputs": [
    {
     "name": "stdout",
     "output_type": "stream",
     "text": [
      "\n",
      "\n",
      "SELECT  name,\n",
      "\tage,\n",
      "\t(\n",
      "\n",
      "SELECT  COUNT(*) \n",
      " FROM sample_table st \n",
      " WHERE  st.age < sample_table.age\n",
      "ORDER BY 1\n",
      ") AS older_count \n",
      " FROM sample_table\n",
      "\n"
     ]
    }
   ],
   "source": [
    "print(tree)"
   ]
  },
  {
   "cell_type": "code",
   "execution_count": 29,
   "id": "0bb0f38d",
   "metadata": {
    "scrolled": true
   },
   "outputs": [
    {
     "data": {
      "text/plain": [
       "[Name(name='name', quote_style='', namespace=None),\n",
       " Name(name='AGE', quote_style='`', namespace=None),\n",
       " Name(name='oops', quote_style='', namespace=None),\n",
       " Name(name='COUNT', quote_style='', namespace=None),\n",
       " Name(name='sample_table', quote_style='', namespace=None),\n",
       " Name(name=Name(name='st', quote_style='', namespace=None), quote_style='', namespace=None),\n",
       " Name(name='st', quote_style='', namespace=None),\n",
       " Name(name='age', quote_style='', namespace=Name(name='st', quote_style='', namespace=None)),\n",
       " Name(name='st', quote_style='', namespace=None),\n",
       " Name(name='age', quote_style='', namespace=Name(name='sample_table', quote_style='', namespace=None)),\n",
       " Name(name='sample_table', quote_style='', namespace=None),\n",
       " Name(name='sample_table', quote_style='', namespace=None)]"
      ]
     },
     "execution_count": 29,
     "metadata": {},
     "output_type": "execute_result"
    }
   ],
   "source": [
    "list(tree.find_all(ast.Name))"
   ]
  },
  {
   "cell_type": "code",
   "execution_count": 34,
   "id": "a2bb0182",
   "metadata": {},
   "outputs": [],
   "source": [
    "tree.replace(ast.Name('oops'), ast.Name('AGE', \"`\"), lambda a, b: isinstance(a, ast.Name) and a.name==b.name)"
   ]
  },
  {
   "cell_type": "code",
   "execution_count": 35,
   "id": "272db09e",
   "metadata": {},
   "outputs": [
    {
     "name": "stdout",
     "output_type": "stream",
     "text": [
      "\n",
      "\n",
      "SELECT  name,\n",
      "\t`AGE`,\n",
      "\t(\n",
      "\n",
      "SELECT  COUNT(*) \n",
      " FROM sample_table st \n",
      " WHERE  `AGE` < `AGE`\n",
      "ORDER BY 1\n",
      ") AS `AGE` \n",
      " FROM sample_table\n",
      "\n"
     ]
    }
   ],
   "source": [
    "print(tree)"
   ]
  },
  {
   "cell_type": "code",
   "execution_count": 11,
   "id": "c89379ab",
   "metadata": {},
   "outputs": [
    {
     "data": {
      "text/plain": [
       "True"
      ]
     },
     "execution_count": 11,
     "metadata": {},
     "output_type": "execute_result"
    }
   ],
   "source": [
    "list(tree.select.from_.find_all(ast.TableExpression))[0].in_from()"
   ]
  },
  {
   "cell_type": "code",
   "execution_count": 8,
   "id": "5279b394",
   "metadata": {},
   "outputs": [
    {
     "name": "stdout",
     "output_type": "stream",
     "text": [
      "17.8 ms ± 296 µs per loop (mean ± std. dev. of 7 runs, 100 loops each)\n"
     ]
    }
   ],
   "source": [
    "%timeit tree.contains(ast.Name(\"fuck\"))"
   ]
  },
  {
   "cell_type": "code",
   "execution_count": 20,
   "id": "08dda367",
   "metadata": {},
   "outputs": [
    {
     "data": {
      "text/plain": [
       "'ctes'"
      ]
     },
     "execution_count": 20,
     "metadata": {},
     "output_type": "execute_result"
    }
   ],
   "source": [
    "tree.ctes[0].parent_key"
   ]
  },
  {
   "cell_type": "code",
   "execution_count": 18,
   "id": "82b85587",
   "metadata": {},
   "outputs": [
    {
     "name": "stdout",
     "output_type": "stream",
     "text": [
      "y (\n",
      "\n",
      "SELECT  wswscs.d_week_seq d_week_seq1,\n",
      "\tsun_sales sun_sales1,\n",
      "\tmon_sales mon_sales1,\n",
      "\ttue_sales tue_sales1,\n",
      "\twed_sales wed_sales1,\n",
      "\tthu_sales thu_sales1,\n",
      "\tfri_sales fri_sales1,\n",
      "\tsat_sales sat_sales1 \n",
      " FROM wswscs,\n",
      "date_dim \n",
      " WHERE  date_dim.d_week_seq = wswscs.d_week_seq AND d_year = 1998\n",
      ")\n"
     ]
    }
   ],
   "source": [
    "print(tree.select.from_.relations[0])"
   ]
  },
  {
   "cell_type": "code",
   "execution_count": 4,
   "id": "8b4b7f9e",
   "metadata": {},
   "outputs": [],
   "source": [
    "str1 = query\n",
    "str2 = str(tree)"
   ]
  },
  {
   "cell_type": "code",
   "execution_count": 5,
   "id": "85d39b8c",
   "metadata": {},
   "outputs": [],
   "source": [
    "import re\n",
    "COMMENT = re.compile(r\"(--.*)|(/\\*[\\s\\S]*?\\*/)\")\n",
    "TRAILING_ZEROES = re.compile(r\"(\\d+\\.\\d*?[1-9])0+|\\b(\\d+)\\.0+\\b\")\n",
    "DIFF_IGNORE = re.compile(r\"[\\';\\s]+\")\n",
    "\n",
    "\n",
    "\n",
    "str1 = DIFF_IGNORE.sub(\"\", TRAILING_ZEROES.sub(\"\", COMMENT.sub(\"\", str1))).upper()\n",
    "str2 = DIFF_IGNORE.sub(\"\", TRAILING_ZEROES.sub(\"\", COMMENT.sub(\"\", str2))).upper()"
   ]
  },
  {
   "cell_type": "code",
   "execution_count": 6,
   "id": "3ffe9a9b",
   "metadata": {},
   "outputs": [
    {
     "data": {
      "text/plain": [
       "True"
      ]
     },
     "execution_count": 6,
     "metadata": {},
     "output_type": "execute_result"
    }
   ],
   "source": [
    "str1 == str2"
   ]
  },
  {
   "cell_type": "code",
   "execution_count": 7,
   "id": "d8cb551d",
   "metadata": {},
   "outputs": [],
   "source": [
    "import difflib\n",
    "\n",
    "# Compute the differences between the two strings\n",
    "diff = difflib.ndiff(str1, str2)\n",
    "\n",
    "# Print out the differences\n",
    "for line in diff:\n",
    "    if line.startswith('+'):\n",
    "        print('Added:', line[2:])\n",
    "    elif line.startswith('-'):\n",
    "        print('Removed:', line[2:])\n",
    "    else:\n",
    "        ...\n",
    "#         print('Unchanged:', line[2:])"
   ]
  },
  {
   "cell_type": "code",
   "execution_count": null,
   "id": "4c4ee213",
   "metadata": {},
   "outputs": [],
   "source": []
  }
 ],
 "metadata": {
  "kernelspec": {
   "display_name": "Python 3 (ipykernel)",
   "language": "python",
   "name": "python3"
  },
  "language_info": {
   "codemirror_mode": {
    "name": "ipython",
    "version": 3
   },
   "file_extension": ".py",
   "mimetype": "text/x-python",
   "name": "python",
   "nbconvert_exporter": "python",
   "pygments_lexer": "ipython3",
   "version": "3.10.10"
  }
 },
 "nbformat": 4,
 "nbformat_minor": 5
}
