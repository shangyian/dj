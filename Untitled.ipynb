{
 "cells": [
  {
   "cell_type": "raw",
   "id": "a2d91eb6",
   "metadata": {},
   "source": [
    "!pip install antlr4-python3-runtime==4.12.0"
   ]
  },
  {
   "cell_type": "code",
   "execution_count": 1,
   "id": "ff7cf8bb",
   "metadata": {},
   "outputs": [],
   "source": [
    "from dj.sql.parsing.backends.antlr4 import parse, parse_statement, print_tree, ast, visit, parse_rule, sbp, ct, DJParseException"
   ]
  },
  {
   "cell_type": "code",
   "execution_count": 2,
   "id": "8074a3f8",
   "metadata": {},
   "outputs": [],
   "source": [
    "from dj.sql.functions2 import function_registry"
   ]
  },
  {
   "cell_type": "code",
   "execution_count": 6,
   "id": "296a2b6b",
   "metadata": {},
   "outputs": [
    {
     "data": {
      "text/plain": [
       "DoubleType()"
      ]
     },
     "execution_count": 6,
     "metadata": {},
     "output_type": "execute_result"
    }
   ],
   "source": [
    "function_registry['AVG'].infer_type(ct.FloatType())"
   ]
  },
  {
   "cell_type": "code",
   "execution_count": 6,
   "id": "bea1954c",
   "metadata": {},
   "outputs": [
    {
     "data": {
      "text/plain": [
       "[('__class__', type),\n",
       " ('__delattr__', <slot wrapper '__delattr__' of 'object' objects>),\n",
       " ('__dict__',\n",
       "  mappingproxy({'__module__': 'dj.sql.parsing.types',\n",
       "                '__doc__': 'Base type for all Column Types',\n",
       "                '_initialized': False,\n",
       "                '__init__': <function dj.sql.parsing.types.ColumnType.__init__(self, type_string: str, repr_string: str)>,\n",
       "                '__repr__': <function dj.sql.parsing.types.ColumnType.__repr__(self)>,\n",
       "                '__str__': <function dj.sql.parsing.types.ColumnType.__str__(self)>,\n",
       "                'is_primitive': <property at 0xffff7b5392b0>,\n",
       "                '__dict__': <attribute '__dict__' of 'ColumnType' objects>,\n",
       "                '__weakref__': <attribute '__weakref__' of 'ColumnType' objects>})),\n",
       " ('__dir__', <method '__dir__' of 'object' objects>),\n",
       " ('__doc__', 'Base type for all Column Types'),\n",
       " ('__eq__', <slot wrapper '__eq__' of 'object' objects>),\n",
       " ('__format__', <method '__format__' of 'object' objects>),\n",
       " ('__ge__', <slot wrapper '__ge__' of 'object' objects>),\n",
       " ('__getattribute__', <slot wrapper '__getattribute__' of 'object' objects>),\n",
       " ('__gt__', <slot wrapper '__gt__' of 'object' objects>),\n",
       " ('__hash__', <slot wrapper '__hash__' of 'object' objects>),\n",
       " ('__init__',\n",
       "  <function dj.sql.parsing.types.ColumnType.__init__(self, type_string: str, repr_string: str)>),\n",
       " ('__init_subclass__', <function ColumnType.__init_subclass__>),\n",
       " ('__le__', <slot wrapper '__le__' of 'object' objects>),\n",
       " ('__lt__', <slot wrapper '__lt__' of 'object' objects>),\n",
       " ('__module__', 'dj.sql.parsing.types'),\n",
       " ('__ne__', <slot wrapper '__ne__' of 'object' objects>),\n",
       " ('__new__', <function object.__new__(*args, **kwargs)>),\n",
       " ('__reduce__', <method '__reduce__' of 'object' objects>),\n",
       " ('__reduce_ex__', <method '__reduce_ex__' of 'object' objects>),\n",
       " ('__repr__', <function dj.sql.parsing.types.ColumnType.__repr__(self)>),\n",
       " ('__setattr__', <slot wrapper '__setattr__' of 'object' objects>),\n",
       " ('__sizeof__', <method '__sizeof__' of 'object' objects>),\n",
       " ('__str__', <function dj.sql.parsing.types.ColumnType.__str__(self)>),\n",
       " ('__subclasshook__', <function ColumnType.__subclasshook__>),\n",
       " ('__weakref__', <attribute '__weakref__' of 'ColumnType' objects>),\n",
       " ('_initialized', False),\n",
       " ('is_primitive', <property at 0xffff7b5392b0>)]"
      ]
     },
     "execution_count": 6,
     "metadata": {},
     "output_type": "execute_result"
    }
   ],
   "source": [
    "inspect.getmembers(ct.ColumnType)"
   ]
  },
  {
   "cell_type": "code",
   "execution_count": 7,
   "id": "b99a9c6b",
   "metadata": {},
   "outputs": [
    {
     "data": {
      "text/plain": [
       "['BinaryType',\n",
       " 'BooleanType',\n",
       " 'ClassVar',\n",
       " 'ColumnType',\n",
       " 'DateType',\n",
       " 'DecimalType',\n",
       " 'Dict',\n",
       " 'DoubleType',\n",
       " 'FixedType',\n",
       " 'FloatType',\n",
       " 'IntegerType',\n",
       " 'ListType',\n",
       " 'LongType',\n",
       " 'MapType',\n",
       " 'NestedField',\n",
       " 'Optional',\n",
       " 'PrimitiveType',\n",
       " 'Singleton',\n",
       " 'StringType',\n",
       " 'StructType',\n",
       " 'TimeType',\n",
       " 'TimestampType',\n",
       " 'TimestamptzType',\n",
       " 'Tuple',\n",
       " 'UUIDType',\n",
       " '__builtins__',\n",
       " '__cached__',\n",
       " '__doc__',\n",
       " '__file__',\n",
       " '__loader__',\n",
       " '__name__',\n",
       " '__package__',\n",
       " '__spec__',\n",
       " 'ast']"
      ]
     },
     "execution_count": 7,
     "metadata": {},
     "output_type": "execute_result"
    }
   ],
   "source": [
    "['BinaryType',\n",
    "'BooleanType',\n",
    "'ColumnType',\n",
    "'DateType',\n",
    "'DecimalType',\n",
    "'DoubleType',\n",
    "'FixedType',\n",
    "'FloatType',\n",
    "'IntegerType',\n",
    "'ListType',\n",
    "'LongType',\n",
    "'MapType',\n",
    "'NestedField',\n",
    "'StringType',\n",
    "'StructType',\n",
    "'TimeType',\n",
    "'TimestampType',\n",
    "'TimestamptzType',]"
   ]
  },
  {
   "cell_type": "code",
   "execution_count": 5,
   "id": "c2a14c53",
   "metadata": {},
   "outputs": [
    {
     "name": "stdout",
     "output_type": "stream",
     "text": [
      "[]\n"
     ]
    }
   ],
   "source": [
    "import inspect\n",
    "\n",
    "\n",
    "child_classes = []\n",
    "\n",
    "for name, obj in inspect.getmembers(ct.ColumnType):\n",
    "    if inspect.isclass(obj) and issubclass(obj, ct.ColumnType) and obj is not ct.ColumnType:\n",
    "        child_classes.append(obj)\n",
    "\n",
    "print(child_classes)"
   ]
  },
  {
   "cell_type": "code",
   "execution_count": 2,
   "id": "0b8ba95e",
   "metadata": {},
   "outputs": [
    {
     "data": {
      "text/plain": [
       "StructType(NestedField(name=Name(name='name', quote_style='', namespace=None), field_type=StringType(), is_optional=False, doc=\"COMMENT'where someone lives'\"),)"
      ]
     },
     "execution_count": 2,
     "metadata": {},
     "output_type": "execute_result"
    }
   ],
   "source": [
    "(parse_rule(\"STRUCT<name: STRING NOT NULL COMMENT 'where someone lives'>\", 'dataType'))"
   ]
  },
  {
   "cell_type": "code",
   "execution_count": 10,
   "id": "424fbb4d",
   "metadata": {},
   "outputs": [
    {
     "name": "stdout",
     "output_type": "stream",
     "text": [
      "struct<name: struct<> COMMENT'where someone lives', name: string NOT NULL COMMENT'where someone lives'>\n"
     ]
    }
   ],
   "source": [
    "print(parse_rule(\"STRUCT<name: struct<> COMMENT 'where someone lives', name: STRING NOT NULL COMMENT 'where someone lives'>\", 'dataType'))"
   ]
  },
  {
   "cell_type": "code",
   "execution_count": 65,
   "id": "2a46687a",
   "metadata": {},
   "outputs": [
    {
     "ename": "DJParseException",
     "evalue": "1:0 Could not parse STRUCT<street:STRINGNOTNULL,city:STRINGNOTNULL,state:STRINGNOTNULL,zip:INTNOTNULL>",
     "output_type": "error",
     "traceback": [
      "\u001b[0;31m---------------------------------------------------------------------------\u001b[0m",
      "\u001b[0;31mDJParseException\u001b[0m                          Traceback (most recent call last)",
      "Cell \u001b[0;32mIn[65], line 1\u001b[0m\n\u001b[0;32m----> 1\u001b[0m \u001b[43mparse_rule\u001b[49m\u001b[43m(\u001b[49m\u001b[38;5;124;43m\"\u001b[39;49m\u001b[38;5;124;43mSTRUCT<street: STRING NOT NULL, city: STRING NOT NULL, state: STRING NOT NULL, zip: INT NOT NULL>\u001b[39;49m\u001b[38;5;124;43m\"\u001b[39;49m\u001b[43m,\u001b[49m\u001b[43m \u001b[49m\u001b[38;5;124;43m'\u001b[39;49m\u001b[38;5;124;43mdataType\u001b[39;49m\u001b[38;5;124;43m'\u001b[39;49m\u001b[43m)\u001b[49m\n",
      "File \u001b[0;32m/code/dj/sql/parsing/backends/antlr4.py:168\u001b[0m, in \u001b[0;36mparse_rule\u001b[0;34m(sql, rule)\u001b[0m\n\u001b[1;32m    164\u001b[0m \u001b[38;5;250m\u001b[39m\u001b[38;5;124;03m\"\"\"\u001b[39;00m\n\u001b[1;32m    165\u001b[0m \u001b[38;5;124;03mParse a string into a DJ ast using the ANTLR4 backend.\u001b[39;00m\n\u001b[1;32m    166\u001b[0m \u001b[38;5;124;03m\"\"\"\u001b[39;00m\n\u001b[1;32m    167\u001b[0m antlr_tree \u001b[38;5;241m=\u001b[39m parse_sql(sql, rule)\n\u001b[0;32m--> 168\u001b[0m ast_tree \u001b[38;5;241m=\u001b[39m \u001b[43mvisit\u001b[49m\u001b[43m(\u001b[49m\u001b[43mantlr_tree\u001b[49m\u001b[43m)\u001b[49m\n\u001b[1;32m    169\u001b[0m \u001b[38;5;28;01mreturn\u001b[39;00m ast_tree\n",
      "File \u001b[0;32m/code/dj/sql/parsing/backends/antlr4.py:212\u001b[0m, in \u001b[0;36mVisitor.__call__\u001b[0;34m(self, ctx)\u001b[0m\n\u001b[1;32m    210\u001b[0m \u001b[38;5;28;01mif\u001b[39;00m result \u001b[38;5;129;01mis\u001b[39;00m \u001b[38;5;28;01mNone\u001b[39;00m:\n\u001b[1;32m    211\u001b[0m     line, col \u001b[38;5;241m=\u001b[39m ctx\u001b[38;5;241m.\u001b[39mstart\u001b[38;5;241m.\u001b[39mline, ctx\u001b[38;5;241m.\u001b[39mstart\u001b[38;5;241m.\u001b[39mcolumn\n\u001b[0;32m--> 212\u001b[0m     \u001b[38;5;28;01mraise\u001b[39;00m DJParseException(\u001b[38;5;124mf\u001b[39m\u001b[38;5;124m\"\u001b[39m\u001b[38;5;132;01m{\u001b[39;00mline\u001b[38;5;132;01m}\u001b[39;00m\u001b[38;5;124m:\u001b[39m\u001b[38;5;132;01m{\u001b[39;00mcol\u001b[38;5;132;01m}\u001b[39;00m\u001b[38;5;124m Could not parse \u001b[39m\u001b[38;5;132;01m{\u001b[39;00mctx\u001b[38;5;241m.\u001b[39mgetText()\u001b[38;5;132;01m}\u001b[39;00m\u001b[38;5;124m\"\u001b[39m)\n\u001b[1;32m    213\u001b[0m \u001b[38;5;28;01mif\u001b[39;00m (\n\u001b[1;32m    214\u001b[0m     \u001b[38;5;28mhasattr\u001b[39m(result, \u001b[38;5;124m\"\u001b[39m\u001b[38;5;124mparenthesized\u001b[39m\u001b[38;5;124m\"\u001b[39m)\n\u001b[1;32m    215\u001b[0m     \u001b[38;5;129;01mand\u001b[39;00m result\u001b[38;5;241m.\u001b[39mparenthesized \u001b[38;5;129;01mis\u001b[39;00m \u001b[38;5;28;01mNone\u001b[39;00m\n\u001b[1;32m    216\u001b[0m     \u001b[38;5;129;01mand\u001b[39;00m \u001b[38;5;28mhasattr\u001b[39m(ctx, \u001b[38;5;124m\"\u001b[39m\u001b[38;5;124mLEFT_PAREN\u001b[39m\u001b[38;5;124m\"\u001b[39m)\n\u001b[1;32m    217\u001b[0m ):\n\u001b[1;32m    218\u001b[0m     \u001b[38;5;28;01mif\u001b[39;00m text \u001b[38;5;241m:=\u001b[39m ctx\u001b[38;5;241m.\u001b[39mgetText():\n",
      "\u001b[0;31mDJParseException\u001b[0m: 1:0 Could not parse STRUCT<street:STRINGNOTNULL,city:STRINGNOTNULL,state:STRINGNOTNULL,zip:INTNOTNULL>"
     ]
    }
   ],
   "source": [
    "parse_rule(\"STRUCT<street: STRING NOT NULL, city: STRING NOT NULL, state: STRING NOT NULL, zip: INT NOT NULL>\", 'dataType')"
   ]
  },
  {
   "cell_type": "code",
   "execution_count": null,
   "id": "144823ed",
   "metadata": {},
   "outputs": [],
   "source": []
  },
  {
   "cell_type": "code",
   "execution_count": null,
   "id": "1d54c041",
   "metadata": {},
   "outputs": [],
   "source": []
  },
  {
   "cell_type": "code",
   "execution_count": 3,
   "id": "6e2ecbe0",
   "metadata": {},
   "outputs": [
    {
     "data": {
      "text/plain": [
       "'struct<True: 1: optional required_field, False: 2: optional optional_field>'"
      ]
     },
     "execution_count": 3,
     "metadata": {},
     "output_type": "execute_result"
    }
   ],
   "source": [
    "str(StructType(\n",
    "                NestedField(True, 1, \"required_field\", StringType()),\n",
    "                NestedField(False, 2, \"optional_field\", IntegerType())\n",
    "        ))"
   ]
  },
  {
   "cell_type": "code",
   "execution_count": 8,
   "id": "71c4f892",
   "metadata": {},
   "outputs": [
    {
     "ename": "ValidationError",
     "evalue": "2 validation errors for NestedField\nid\n  field required (type=value_error.missing)\ntype\n  field required (type=value_error.missing)",
     "output_type": "error",
     "traceback": [
      "\u001b[0;31m---------------------------------------------------------------------------\u001b[0m",
      "\u001b[0;31mValidationError\u001b[0m                           Traceback (most recent call last)",
      "Cell \u001b[0;32mIn[8], line 1\u001b[0m\n\u001b[0;32m----> 1\u001b[0m \u001b[43mListType\u001b[49m\u001b[43m(\u001b[49m\u001b[43melement_id\u001b[49m\u001b[38;5;241;43m=\u001b[39;49m\u001b[38;5;241;43m3\u001b[39;49m\u001b[43m,\u001b[49m\u001b[43m \u001b[49m\u001b[43melement_type\u001b[49m\u001b[38;5;241;43m=\u001b[39;49m\u001b[43mStringType\u001b[49m\u001b[43m(\u001b[49m\u001b[43m)\u001b[49m\u001b[43m,\u001b[49m\u001b[43m \u001b[49m\u001b[43melement_required\u001b[49m\u001b[38;5;241;43m=\u001b[39;49m\u001b[38;5;28;43;01mTrue\u001b[39;49;00m\u001b[43m)\u001b[49m\n",
      "Cell \u001b[0;32mIn[7], line 121\u001b[0m, in \u001b[0;36mListType.__init__\u001b[0;34m(self, element_id, element, element_required, **data)\u001b[0m\n\u001b[1;32m    119\u001b[0m data[\u001b[38;5;124m\"\u001b[39m\u001b[38;5;124melement_type\u001b[39m\u001b[38;5;124m\"\u001b[39m] \u001b[38;5;241m=\u001b[39m element \u001b[38;5;129;01mor\u001b[39;00m data[\u001b[38;5;124m\"\u001b[39m\u001b[38;5;124melement_type\u001b[39m\u001b[38;5;124m\"\u001b[39m]\n\u001b[1;32m    120\u001b[0m data[\u001b[38;5;124m\"\u001b[39m\u001b[38;5;124melement_required\u001b[39m\u001b[38;5;124m\"\u001b[39m] \u001b[38;5;241m=\u001b[39m data[\u001b[38;5;124m\"\u001b[39m\u001b[38;5;124melement-required\u001b[39m\u001b[38;5;124m\"\u001b[39m] \u001b[38;5;28;01mif\u001b[39;00m \u001b[38;5;124m\"\u001b[39m\u001b[38;5;124melement-required\u001b[39m\u001b[38;5;124m\"\u001b[39m \u001b[38;5;129;01min\u001b[39;00m data \u001b[38;5;28;01melse\u001b[39;00m element_required\n\u001b[0;32m--> 121\u001b[0m data[\u001b[38;5;124m\"\u001b[39m\u001b[38;5;124melement_field\u001b[39m\u001b[38;5;124m\"\u001b[39m] \u001b[38;5;241m=\u001b[39m \u001b[43mNestedField\u001b[49m\u001b[43m(\u001b[49m\n\u001b[1;32m    122\u001b[0m \u001b[43m    \u001b[49m\u001b[43mname\u001b[49m\u001b[38;5;241;43m=\u001b[39;49m\u001b[38;5;124;43m\"\u001b[39;49m\u001b[38;5;124;43melement\u001b[39;49m\u001b[38;5;124;43m\"\u001b[39;49m\u001b[43m,\u001b[49m\n\u001b[1;32m    123\u001b[0m \u001b[43m    \u001b[49m\u001b[43mrequired\u001b[49m\u001b[38;5;241;43m=\u001b[39;49m\u001b[43mdata\u001b[49m\u001b[43m[\u001b[49m\u001b[38;5;124;43m\"\u001b[39;49m\u001b[38;5;124;43melement_required\u001b[39;49m\u001b[38;5;124;43m\"\u001b[39;49m\u001b[43m]\u001b[49m\u001b[43m,\u001b[49m\n\u001b[1;32m    124\u001b[0m \u001b[43m    \u001b[49m\u001b[43mfield_id\u001b[49m\u001b[38;5;241;43m=\u001b[39;49m\u001b[43mdata\u001b[49m\u001b[43m[\u001b[49m\u001b[38;5;124;43m\"\u001b[39;49m\u001b[38;5;124;43melement_id\u001b[39;49m\u001b[38;5;124;43m\"\u001b[39;49m\u001b[43m]\u001b[49m\u001b[43m,\u001b[49m\n\u001b[1;32m    125\u001b[0m \u001b[43m    \u001b[49m\u001b[43mfield_type\u001b[49m\u001b[38;5;241;43m=\u001b[39;49m\u001b[43mdata\u001b[49m\u001b[43m[\u001b[49m\u001b[38;5;124;43m\"\u001b[39;49m\u001b[38;5;124;43melement_type\u001b[39;49m\u001b[38;5;124;43m\"\u001b[39;49m\u001b[43m]\u001b[49m\u001b[43m,\u001b[49m\n\u001b[1;32m    126\u001b[0m \u001b[43m\u001b[49m\u001b[43m)\u001b[49m\n\u001b[1;32m    127\u001b[0m \u001b[38;5;28msuper\u001b[39m()\u001b[38;5;241m.\u001b[39m\u001b[38;5;21m__init__\u001b[39m(\u001b[38;5;241m*\u001b[39m\u001b[38;5;241m*\u001b[39mdata)\n",
      "Cell \u001b[0;32mIn[7], line 178\u001b[0m, in \u001b[0;36mNestedField.__init__\u001b[0;34m(self, field_id, name, field_type, required, doc, **data)\u001b[0m\n\u001b[1;32m    176\u001b[0m data[\u001b[38;5;124m\"\u001b[39m\u001b[38;5;124mrequired\u001b[39m\u001b[38;5;124m\"\u001b[39m] \u001b[38;5;241m=\u001b[39m required\n\u001b[1;32m    177\u001b[0m data[\u001b[38;5;124m\"\u001b[39m\u001b[38;5;124mdoc\u001b[39m\u001b[38;5;124m\"\u001b[39m] \u001b[38;5;241m=\u001b[39m doc\n\u001b[0;32m--> 178\u001b[0m \u001b[38;5;28;43msuper\u001b[39;49m\u001b[43m(\u001b[49m\u001b[43m)\u001b[49m\u001b[38;5;241;43m.\u001b[39;49m\u001b[38;5;21;43m__init__\u001b[39;49m\u001b[43m(\u001b[49m\u001b[38;5;241;43m*\u001b[39;49m\u001b[38;5;241;43m*\u001b[39;49m\u001b[43mdata\u001b[49m\u001b[43m)\u001b[49m\n",
      "File \u001b[0;32m/usr/local/lib/python3.10/site-packages/pydantic/main.py:341\u001b[0m, in \u001b[0;36mBaseModel.__init__\u001b[0;34m(__pydantic_self__, **data)\u001b[0m\n\u001b[1;32m    339\u001b[0m values, fields_set, validation_error \u001b[38;5;241m=\u001b[39m validate_model(__pydantic_self__\u001b[38;5;241m.\u001b[39m\u001b[38;5;18m__class__\u001b[39m, data)\n\u001b[1;32m    340\u001b[0m \u001b[38;5;28;01mif\u001b[39;00m validation_error:\n\u001b[0;32m--> 341\u001b[0m     \u001b[38;5;28;01mraise\u001b[39;00m validation_error\n\u001b[1;32m    342\u001b[0m \u001b[38;5;28;01mtry\u001b[39;00m:\n\u001b[1;32m    343\u001b[0m     object_setattr(__pydantic_self__, \u001b[38;5;124m'\u001b[39m\u001b[38;5;124m__dict__\u001b[39m\u001b[38;5;124m'\u001b[39m, values)\n",
      "\u001b[0;31mValidationError\u001b[0m: 2 validation errors for NestedField\nid\n  field required (type=value_error.missing)\ntype\n  field required (type=value_error.missing)"
     ]
    }
   ],
   "source": [
    "ListType(element_id=3, element_type=StringType(), element_required=True)"
   ]
  },
  {
   "cell_type": "code",
   "execution_count": 3,
   "id": "71914437",
   "metadata": {},
   "outputs": [
    {
     "ename": "KeyError",
     "evalue": "'element-id'",
     "output_type": "error",
     "traceback": [
      "\u001b[0;31m---------------------------------------------------------------------------\u001b[0m",
      "\u001b[0;31mKeyError\u001b[0m                                  Traceback (most recent call last)",
      "Cell \u001b[0;32mIn[3], line 1\u001b[0m\n\u001b[0;32m----> 1\u001b[0m \u001b[43mListType\u001b[49m\u001b[43m(\u001b[49m\u001b[43melement_id\u001b[49m\u001b[38;5;241;43m=\u001b[39;49m\u001b[38;5;241;43m3\u001b[39;49m\u001b[43m,\u001b[49m\u001b[43m \u001b[49m\u001b[43melement_type\u001b[49m\u001b[38;5;241;43m=\u001b[39;49m\u001b[43mStringType\u001b[49m\u001b[43m(\u001b[49m\u001b[43m)\u001b[49m\u001b[43m,\u001b[49m\u001b[43m \u001b[49m\u001b[43melement_required\u001b[49m\u001b[38;5;241;43m=\u001b[39;49m\u001b[38;5;28;43;01mTrue\u001b[39;49;00m\u001b[43m)\u001b[49m\n",
      "File \u001b[0;32m/code/dj/sql/parsing/types.py:299\u001b[0m, in \u001b[0;36mListType.__init__\u001b[0;34m(self, element_id, element, element_required, **data)\u001b[0m\n\u001b[1;32m    296\u001b[0m \u001b[38;5;28;01mdef\u001b[39;00m \u001b[38;5;21m__init__\u001b[39m(\n\u001b[1;32m    297\u001b[0m     \u001b[38;5;28mself\u001b[39m, element_id: Optional[\u001b[38;5;28mint\u001b[39m] \u001b[38;5;241m=\u001b[39m \u001b[38;5;28;01mNone\u001b[39;00m, element: Optional[DataType] \u001b[38;5;241m=\u001b[39m \u001b[38;5;28;01mNone\u001b[39;00m, element_required: \u001b[38;5;28mbool\u001b[39m \u001b[38;5;241m=\u001b[39m \u001b[38;5;28;01mTrue\u001b[39;00m, \u001b[38;5;241m*\u001b[39m\u001b[38;5;241m*\u001b[39mdata: Any\n\u001b[1;32m    298\u001b[0m ):\n\u001b[0;32m--> 299\u001b[0m     data[\u001b[38;5;124m\"\u001b[39m\u001b[38;5;124melement_id\u001b[39m\u001b[38;5;124m\"\u001b[39m] \u001b[38;5;241m=\u001b[39m \u001b[43mdata\u001b[49m\u001b[43m[\u001b[49m\u001b[38;5;124;43m\"\u001b[39;49m\u001b[38;5;124;43melement-id\u001b[39;49m\u001b[38;5;124;43m\"\u001b[39;49m\u001b[43m]\u001b[49m \u001b[38;5;28;01mif\u001b[39;00m \u001b[38;5;124m\"\u001b[39m\u001b[38;5;124melement-id\u001b[39m\u001b[38;5;124m\"\u001b[39m \u001b[38;5;28;01melse\u001b[39;00m element_id\n\u001b[1;32m    300\u001b[0m     data[\u001b[38;5;124m\"\u001b[39m\u001b[38;5;124melement_type\u001b[39m\u001b[38;5;124m\"\u001b[39m] \u001b[38;5;241m=\u001b[39m element \u001b[38;5;129;01mor\u001b[39;00m data[\u001b[38;5;124m\"\u001b[39m\u001b[38;5;124melement_type\u001b[39m\u001b[38;5;124m\"\u001b[39m]\n\u001b[1;32m    301\u001b[0m     data[\u001b[38;5;124m\"\u001b[39m\u001b[38;5;124melement_required\u001b[39m\u001b[38;5;124m\"\u001b[39m] \u001b[38;5;241m=\u001b[39m data[\u001b[38;5;124m\"\u001b[39m\u001b[38;5;124melement-required\u001b[39m\u001b[38;5;124m\"\u001b[39m] \u001b[38;5;28;01mif\u001b[39;00m \u001b[38;5;124m\"\u001b[39m\u001b[38;5;124melement-required\u001b[39m\u001b[38;5;124m\"\u001b[39m \u001b[38;5;28;01melse\u001b[39;00m element_required\n",
      "\u001b[0;31mKeyError\u001b[0m: 'element-id'"
     ]
    }
   ],
   "source": [
    "ListType(element_id=3, element_type=StringType(), element_required=True)"
   ]
  },
  {
   "cell_type": "code",
   "execution_count": null,
   "id": "938dcae5",
   "metadata": {},
   "outputs": [],
   "source": [
    "ListType(element_id=3, element_type=StringType(), element_required=True)"
   ]
  },
  {
   "cell_type": "code",
   "execution_count": 4,
   "id": "ff51182d",
   "metadata": {},
   "outputs": [
    {
     "name": "stdout",
     "output_type": "stream",
     "text": [
      "Automatic pdb calling has been turned ON\n"
     ]
    }
   ],
   "source": [
    "%pdb"
   ]
  },
  {
   "cell_type": "code",
   "execution_count": 3,
   "id": "f0be08f1",
   "metadata": {},
   "outputs": [
    {
     "ename": "TypeError",
     "evalue": "BaseModel.__init__() takes 1 positional argument but 4 were given",
     "output_type": "error",
     "traceback": [
      "\u001b[0;31m---------------------------------------------------------------------------\u001b[0m",
      "\u001b[0;31mTypeError\u001b[0m                                 Traceback (most recent call last)",
      "Cell \u001b[0;32mIn[3], line 1\u001b[0m\n\u001b[0;32m----> 1\u001b[0m \u001b[43mNestedField\u001b[49m\u001b[43m(\u001b[49m\u001b[38;5;241;43m2\u001b[39;49m\u001b[43m,\u001b[49m\u001b[43m \u001b[49m\u001b[38;5;124;43m\"\u001b[39;49m\u001b[38;5;124;43moptional_field\u001b[39;49m\u001b[38;5;124;43m\"\u001b[39;49m\u001b[43m,\u001b[49m\u001b[43m \u001b[49m\u001b[43mIntegerType\u001b[49m\u001b[43m(\u001b[49m\u001b[43m)\u001b[49m\u001b[43m)\u001b[49m\n",
      "\u001b[0;31mTypeError\u001b[0m: BaseModel.__init__() takes 1 positional argument but 4 were given"
     ]
    }
   ],
   "source": [
    "NestedField(2, \"optional_field\", IntegerType())"
   ]
  },
  {
   "cell_type": "code",
   "execution_count": 9,
   "id": "cce33ab6",
   "metadata": {},
   "outputs": [
    {
     "ename": "KeyError",
     "evalue": "'id'",
     "output_type": "error",
     "traceback": [
      "\u001b[0;31m---------------------------------------------------------------------------\u001b[0m",
      "\u001b[0;31mKeyError\u001b[0m                                  Traceback (most recent call last)",
      "Cell \u001b[0;32mIn[9], line 2\u001b[0m\n\u001b[1;32m      1\u001b[0m \u001b[38;5;28mstr\u001b[39m(StructType(\n\u001b[0;32m----> 2\u001b[0m     \u001b[43mNestedField\u001b[49m\u001b[43m(\u001b[49m\u001b[38;5;241;43m1\u001b[39;49m\u001b[43m,\u001b[49m\u001b[43m \u001b[49m\u001b[38;5;124;43m\"\u001b[39;49m\u001b[38;5;124;43mrequired_field\u001b[39;49m\u001b[38;5;124;43m\"\u001b[39;49m\u001b[43m,\u001b[49m\u001b[43m \u001b[49m\u001b[43mStringType\u001b[49m\u001b[43m(\u001b[49m\u001b[43m)\u001b[49m\u001b[43m,\u001b[49m\u001b[43m \u001b[49m\u001b[38;5;28;43;01mTrue\u001b[39;49;00m\u001b[43m)\u001b[49m,\n\u001b[1;32m      3\u001b[0m     NestedField(\u001b[38;5;241m2\u001b[39m, \u001b[38;5;124m\"\u001b[39m\u001b[38;5;124moptional_field\u001b[39m\u001b[38;5;124m\"\u001b[39m, IntegerType())\n\u001b[1;32m      4\u001b[0m ))\n",
      "File \u001b[0;32m/code/dj/sql/parsing/types.py:223\u001b[0m, in \u001b[0;36mNestedField.__init__\u001b[0;34m(self, field_id, name, field_type, required, doc, **data)\u001b[0m\n\u001b[1;32m    212\u001b[0m \u001b[38;5;28;01mdef\u001b[39;00m \u001b[38;5;21m__init__\u001b[39m(\n\u001b[1;32m    213\u001b[0m     \u001b[38;5;28mself\u001b[39m,\n\u001b[1;32m    214\u001b[0m     field_id: Optional[\u001b[38;5;28mint\u001b[39m] \u001b[38;5;241m=\u001b[39m \u001b[38;5;28;01mNone\u001b[39;00m,\n\u001b[0;32m   (...)\u001b[0m\n\u001b[1;32m    221\u001b[0m     \u001b[38;5;66;03m# We need an init when we want to use positional arguments, but\u001b[39;00m\n\u001b[1;32m    222\u001b[0m     \u001b[38;5;66;03m# need also to support the aliases.\u001b[39;00m\n\u001b[0;32m--> 223\u001b[0m     data[\u001b[38;5;124m\"\u001b[39m\u001b[38;5;124mfield_id\u001b[39m\u001b[38;5;124m\"\u001b[39m] \u001b[38;5;241m=\u001b[39m \u001b[43mdata\u001b[49m\u001b[43m[\u001b[49m\u001b[38;5;124;43m\"\u001b[39;49m\u001b[38;5;124;43mid\u001b[39;49m\u001b[38;5;124;43m\"\u001b[39;49m\u001b[43m]\u001b[49m \u001b[38;5;28;01mif\u001b[39;00m \u001b[38;5;124m\"\u001b[39m\u001b[38;5;124mid\u001b[39m\u001b[38;5;124m\"\u001b[39m \u001b[38;5;28;01melse\u001b[39;00m field_id\n\u001b[1;32m    224\u001b[0m     data[\u001b[38;5;124m\"\u001b[39m\u001b[38;5;124mname\u001b[39m\u001b[38;5;124m\"\u001b[39m] \u001b[38;5;241m=\u001b[39m name\n\u001b[1;32m    225\u001b[0m     data[\u001b[38;5;124m\"\u001b[39m\u001b[38;5;124mfield_type\u001b[39m\u001b[38;5;124m\"\u001b[39m] \u001b[38;5;241m=\u001b[39m data[\u001b[38;5;124m\"\u001b[39m\u001b[38;5;124mtype\u001b[39m\u001b[38;5;124m\"\u001b[39m] \u001b[38;5;28;01mif\u001b[39;00m \u001b[38;5;124m\"\u001b[39m\u001b[38;5;124mtype\u001b[39m\u001b[38;5;124m\"\u001b[39m \u001b[38;5;28;01melse\u001b[39;00m field_type\n",
      "\u001b[0;31mKeyError\u001b[0m: 'id'"
     ]
    }
   ],
   "source": [
    "str(StructType(\n",
    "    NestedField(1, \"required_field\", StringType(), True),\n",
    "    NestedField(2, \"optional_field\", IntegerType())\n",
    "))"
   ]
  },
  {
   "cell_type": "code",
   "execution_count": 2,
   "id": "7a811f12",
   "metadata": {},
   "outputs": [],
   "source": [
    "query = \"\"\"\n",
    "-- start query 2 in stream 0 using template query2.tpl\n",
    "WITH wscs\n",
    "     AS (SELECT sold_date_sk,\n",
    "                sales_price\n",
    "         FROM   (SELECT ws_sold_date_sk    sold_date_sk,\n",
    "                        ws_ext_sales_price sales_price\n",
    "                 FROM   web_sales)\n",
    "         UNION ALL\n",
    "         (SELECT cs_sold_date_sk    sold_date_sk,\n",
    "                 cs_ext_sales_price sales_price\n",
    "          FROM   catalog_sales)),\n",
    "     wswscs\n",
    "     AS (SELECT d_week_seq,\n",
    "                Sum(CASE\n",
    "                      WHEN ( d_day_name = 'Sunday' ) THEN sales_price\n",
    "                      ELSE NULL\n",
    "                    END) sun_sales,\n",
    "                Sum(CASE\n",
    "                      WHEN ( d_day_name = 'Monday' ) THEN sales_price\n",
    "                      ELSE NULL\n",
    "                    END) mon_sales,\n",
    "                Sum(CASE\n",
    "                      WHEN ( d_day_name = 'Tuesday' ) THEN sales_price\n",
    "                      ELSE NULL\n",
    "                    END) tue_sales,\n",
    "                Sum(CASE\n",
    "                      WHEN ( d_day_name = 'Wednesday' ) THEN sales_price\n",
    "                      ELSE NULL\n",
    "                    END) wed_sales,\n",
    "                Sum(CASE\n",
    "                      WHEN ( d_day_name = 'Thursday' ) THEN sales_price\n",
    "                      ELSE NULL\n",
    "                    END) thu_sales,\n",
    "                Sum(CASE\n",
    "                      WHEN ( d_day_name = 'Friday' ) THEN sales_price\n",
    "                      ELSE NULL\n",
    "                    END) fri_sales,\n",
    "                Sum(CASE\n",
    "                      WHEN ( d_day_name = 'Saturday' ) THEN sales_price\n",
    "                      ELSE NULL\n",
    "                    END) sat_sales\n",
    "         FROM   wscs,\n",
    "                date_dim\n",
    "         WHERE  d_date_sk = sold_date_sk\n",
    "         GROUP  BY d_week_seq)\n",
    "SELECT d_week_seq1,\n",
    "       Round(sun_sales1 / sun_sales2, 2),\n",
    "       Round(mon_sales1 / mon_sales2, 2),\n",
    "       Round(tue_sales1 / tue_sales2, 2),\n",
    "       Round(wed_sales1 / wed_sales2, 2),\n",
    "       Round(thu_sales1 / thu_sales2, 2),\n",
    "       Round(fri_sales1 / fri_sales2, 2),\n",
    "       Round(sat_sales1 / sat_sales2, 2)\n",
    "FROM   (SELECT wswscs.d_week_seq d_week_seq1,\n",
    "               sun_sales         sun_sales1,\n",
    "               mon_sales         mon_sales1,\n",
    "               tue_sales         tue_sales1,\n",
    "               wed_sales         wed_sales1,\n",
    "               thu_sales         thu_sales1,\n",
    "               fri_sales         fri_sales1,\n",
    "               sat_sales         sat_sales1\n",
    "        FROM   wswscs,\n",
    "               date_dim\n",
    "        WHERE  date_dim.d_week_seq = wswscs.d_week_seq\n",
    "               AND d_year = 1998) y,\n",
    "       (SELECT wswscs.d_week_seq d_week_seq2,\n",
    "               sun_sales         sun_sales2,\n",
    "               mon_sales         mon_sales2,\n",
    "               tue_sales         tue_sales2,\n",
    "               wed_sales         wed_sales2,\n",
    "               thu_sales         thu_sales2,\n",
    "               fri_sales         fri_sales2,\n",
    "               sat_sales         sat_sales2\n",
    "        FROM   wswscs,\n",
    "               date_dim\n",
    "        WHERE  date_dim.d_week_seq = wswscs.d_week_seq\n",
    "               AND d_year = 1998 + 1) z\n",
    "WHERE  d_week_seq1 = d_week_seq2 - 53\n",
    "ORDER  BY d_week_seq1;\n",
    "\"\"\""
   ]
  },
  {
   "cell_type": "code",
   "execution_count": 3,
   "id": "9ccf2678",
   "metadata": {},
   "outputs": [],
   "source": [
    "query =\"\"\"\n",
    "SELECT name, age, (\n",
    "    SELECT COUNT(*) \n",
    "    FROM sample_table st \n",
    "    WHERE st.age < sample_table.age\n",
    "    ORDER BY 1\n",
    ") AS older_count\n",
    "FROM sample_table;\n",
    "\"\"\""
   ]
  },
  {
   "cell_type": "code",
   "execution_count": 16,
   "id": "6cbda968",
   "metadata": {
    "scrolled": true
   },
   "outputs": [
    {
     "name": "stdout",
     "output_type": "stream",
     "text": [
      "29.1 ms ± 1.55 ms per loop (mean ± std. dev. of 7 runs, 10 loops each)\n"
     ]
    }
   ],
   "source": [
    "%timeit (parse_statement(query))"
   ]
  },
  {
   "cell_type": "code",
   "execution_count": 14,
   "id": "84e0510b",
   "metadata": {
    "scrolled": true
   },
   "outputs": [
    {
     "ename": "AttributeError",
     "evalue": "'str' object has no attribute 'identifier'",
     "output_type": "error",
     "traceback": [
      "\u001B[0;31m---------------------------------------------------------------------------\u001B[0m",
      "\u001B[0;31mAttributeError\u001B[0m                            Traceback (most recent call last)",
      "Cell \u001B[0;32mIn[14], line 1\u001B[0m\n\u001B[0;32m----> 1\u001B[0m \u001B[43mast\u001B[49m\u001B[38;5;241;43m.\u001B[39;49m\u001B[43mColumn\u001B[49m\u001B[43m(\u001B[49m\u001B[43mast\u001B[49m\u001B[38;5;241;43m.\u001B[39;49m\u001B[43mName\u001B[49m\u001B[43m(\u001B[49m\u001B[38;5;124;43m'\u001B[39;49m\u001B[38;5;124;43mx\u001B[39;49m\u001B[38;5;124;43m'\u001B[39;49m\u001B[43m)\u001B[49m\u001B[43m)\u001B[49m\u001B[38;5;241;43m.\u001B[39;49m\u001B[43mname\u001B[49m\u001B[38;5;241;43m.\u001B[39;49m\u001B[43mname\u001B[49m\u001B[38;5;241;43m.\u001B[39;49m\u001B[43midentifier\u001B[49m(\u001B[38;5;28;01mFalse\u001B[39;00m)\n",
      "\u001B[0;31mAttributeError\u001B[0m: 'str' object has no attribute 'identifier'"
     ]
    }
   ],
   "source": [
    "ast.Column(ast.Name('x')).name.name.identifier(False)"
   ]
  },
  {
   "cell_type": "code",
   "execution_count": 17,
   "id": "6c1c73bb",
   "metadata": {},
   "outputs": [],
   "source": [
    "tree = parse(query)"
   ]
  },
  {
   "cell_type": "code",
   "execution_count": 18,
   "id": "0cdd7682",
   "metadata": {},
   "outputs": [
    {
     "name": "stdout",
     "output_type": "stream",
     "text": [
      "\n",
      "\n",
      "SELECT  name,\n",
      "\tage,\n",
      "\t(\n",
      "\n",
      "SELECT  COUNT(*) \n",
      " FROM sample_table st \n",
      " WHERE  st.age < sample_table.age\n",
      "ORDER BY 1\n",
      ") AS older_count \n",
      " FROM sample_table\n",
      "\n"
     ]
    }
   ],
   "source": [
    "print(tree)"
   ]
  },
  {
   "cell_type": "code",
   "execution_count": 29,
   "id": "0bb0f38d",
   "metadata": {
    "scrolled": true
   },
   "outputs": [
    {
     "data": {
      "text/plain": [
       "[Name(name='name', quote_style='', namespace=None),\n",
       " Name(name='AGE', quote_style='`', namespace=None),\n",
       " Name(name='oops', quote_style='', namespace=None),\n",
       " Name(name='COUNT', quote_style='', namespace=None),\n",
       " Name(name='sample_table', quote_style='', namespace=None),\n",
       " Name(name=Name(name='st', quote_style='', namespace=None), quote_style='', namespace=None),\n",
       " Name(name='st', quote_style='', namespace=None),\n",
       " Name(name='age', quote_style='', namespace=Name(name='st', quote_style='', namespace=None)),\n",
       " Name(name='st', quote_style='', namespace=None),\n",
       " Name(name='age', quote_style='', namespace=Name(name='sample_table', quote_style='', namespace=None)),\n",
       " Name(name='sample_table', quote_style='', namespace=None),\n",
       " Name(name='sample_table', quote_style='', namespace=None)]"
      ]
     },
     "execution_count": 29,
     "metadata": {},
     "output_type": "execute_result"
    }
   ],
   "source": [
    "list(tree.find_all(ast.Name))"
   ]
  },
  {
   "cell_type": "code",
   "execution_count": 34,
   "id": "a2bb0182",
   "metadata": {},
   "outputs": [],
   "source": [
    "tree.replace(ast.Name('oops'), ast.Name('AGE', \"`\"), lambda a, b: isinstance(a, ast.Name) and a.name==b.name)"
   ]
  },
  {
   "cell_type": "code",
   "execution_count": 35,
   "id": "272db09e",
   "metadata": {},
   "outputs": [
    {
     "name": "stdout",
     "output_type": "stream",
     "text": [
      "\n",
      "\n",
      "SELECT  name,\n",
      "\t`AGE`,\n",
      "\t(\n",
      "\n",
      "SELECT  COUNT(*) \n",
      " FROM sample_table st \n",
      " WHERE  `AGE` < `AGE`\n",
      "ORDER BY 1\n",
      ") AS `AGE` \n",
      " FROM sample_table\n",
      "\n"
     ]
    }
   ],
   "source": [
    "print(tree)"
   ]
  },
  {
   "cell_type": "code",
   "execution_count": 11,
   "id": "c89379ab",
   "metadata": {},
   "outputs": [
    {
     "data": {
      "text/plain": [
       "True"
      ]
     },
     "execution_count": 11,
     "metadata": {},
     "output_type": "execute_result"
    }
   ],
   "source": [
    "list(tree.select.from_.find_all(ast.TableExpression))[0].in_from()"
   ]
  },
  {
   "cell_type": "code",
   "execution_count": 8,
   "id": "5279b394",
   "metadata": {},
   "outputs": [
    {
     "name": "stdout",
     "output_type": "stream",
     "text": [
      "17.8 ms ± 296 µs per loop (mean ± std. dev. of 7 runs, 100 loops each)\n"
     ]
    }
   ],
   "source": [
    "%timeit tree.contains(ast.Name(\"fuck\"))"
   ]
  },
  {
   "cell_type": "code",
   "execution_count": 20,
   "id": "08dda367",
   "metadata": {},
   "outputs": [
    {
     "data": {
      "text/plain": [
       "'ctes'"
      ]
     },
     "execution_count": 20,
     "metadata": {},
     "output_type": "execute_result"
    }
   ],
   "source": [
    "tree.ctes[0].parent_key"
   ]
  },
  {
   "cell_type": "code",
   "execution_count": 18,
   "id": "82b85587",
   "metadata": {},
   "outputs": [
    {
     "name": "stdout",
     "output_type": "stream",
     "text": [
      "y (\n",
      "\n",
      "SELECT  wswscs.d_week_seq d_week_seq1,\n",
      "\tsun_sales sun_sales1,\n",
      "\tmon_sales mon_sales1,\n",
      "\ttue_sales tue_sales1,\n",
      "\twed_sales wed_sales1,\n",
      "\tthu_sales thu_sales1,\n",
      "\tfri_sales fri_sales1,\n",
      "\tsat_sales sat_sales1 \n",
      " FROM wswscs,\n",
      "date_dim \n",
      " WHERE  date_dim.d_week_seq = wswscs.d_week_seq AND d_year = 1998\n",
      ")\n"
     ]
    }
   ],
   "source": [
    "print(tree.select.from_.relations[0])"
   ]
  },
  {
   "cell_type": "code",
   "execution_count": 4,
   "id": "8b4b7f9e",
   "metadata": {},
   "outputs": [],
   "source": [
    "str1 = query\n",
    "str2 = str(tree)"
   ]
  },
  {
   "cell_type": "code",
   "execution_count": 5,
   "id": "85d39b8c",
   "metadata": {},
   "outputs": [],
   "source": [
    "import re\n",
    "COMMENT = re.compile(r\"(--.*)|(/\\*[\\s\\S]*?\\*/)\")\n",
    "TRAILING_ZEROES = re.compile(r\"(\\d+\\.\\d*?[1-9])0+|\\b(\\d+)\\.0+\\b\")\n",
    "DIFF_IGNORE = re.compile(r\"[\\';\\s]+\")\n",
    "\n",
    "\n",
    "\n",
    "str1 = DIFF_IGNORE.sub(\"\", TRAILING_ZEROES.sub(\"\", COMMENT.sub(\"\", str1))).upper()\n",
    "str2 = DIFF_IGNORE.sub(\"\", TRAILING_ZEROES.sub(\"\", COMMENT.sub(\"\", str2))).upper()"
   ]
  },
  {
   "cell_type": "code",
   "execution_count": 6,
   "id": "3ffe9a9b",
   "metadata": {},
   "outputs": [
    {
     "data": {
      "text/plain": [
       "True"
      ]
     },
     "execution_count": 6,
     "metadata": {},
     "output_type": "execute_result"
    }
   ],
   "source": [
    "str1 == str2"
   ]
  },
  {
   "cell_type": "code",
   "execution_count": 7,
   "id": "d8cb551d",
   "metadata": {},
   "outputs": [],
   "source": [
    "import difflib\n",
    "\n",
    "# Compute the differences between the two strings\n",
    "diff = difflib.ndiff(str1, str2)\n",
    "\n",
    "# Print out the differences\n",
    "for line in diff:\n",
    "    if line.startswith('+'):\n",
    "        print('Added:', line[2:])\n",
    "    elif line.startswith('-'):\n",
    "        print('Removed:', line[2:])\n",
    "    else:\n",
    "        ...\n",
    "#         print('Unchanged:', line[2:])"
   ]
  },
  {
   "cell_type": "code",
   "execution_count": null,
   "id": "be1c378a",
   "metadata": {},
   "outputs": [],
   "source": [
    "class Avg(Function):\n",
    "    is_aggregation = True\n",
    "    \n",
    "    @staticmethod\n",
    "    def infer_type(arg) -> ct.DoubleType:\n",
    "        return ct.DoubleType()\n",
    "\n",
    "\n",
    "class Min(Function):\n",
    "    is_aggregation = True\n",
    "    \n",
    "    @staticmethod\n",
    "    def infer_type(arg) -> ct.ColumnType:\n",
    "        return arg\n",
    "\n",
    "\n",
    "class Max(Function):\n",
    "    is_aggregation = True\n",
    "    \n",
    "    @staticmethod\n",
    "    def infer_type(arg) -> ct.ColumnType:\n",
    "        return arg\n",
    "\n",
    "\n",
    "class Sum(Function):\n",
    "    is_aggregation = True\n",
    "    \n",
    "    @staticmethod\n",
    "    def infer_type(arg) -> ct.ColumnType:\n",
    "        return arg\n",
    "\n",
    "\n",
    "class Ceil(Function):\n",
    "    @staticmethod\n",
    "    def infer_type(arg) -> ct.IntegerType:\n",
    "        return ct.IntegerType()\n",
    "\n",
    "\n",
    "class Count(Function):\n",
    "    is_aggregation = True\n",
    "    \n",
    "    @staticmethod\n",
    "    def infer_type(arg) -> ct.LongType:\n",
    "        return ct.LongType()\n",
    "\n",
    "\n",
    "class CurrentDate(Function):\n",
    "    @staticmethod\n",
    "    def infer_type(arg) -> ct.DateType:\n",
    "        return ct.DateType()\n",
    "\n",
    "\n",
    "class CurrentDatetime(Function):\n",
    "    @staticmethod\n",
    "    def infer_type(arg) -> ct.TimestampType:\n",
    "        return ct.TimestampType()\n",
    "\n",
    "\n",
    "class CurrentTime(Function):\n",
    "    @staticmethod\n",
    "    def infer_type(arg) -> ct.TimeType:\n",
    "        return ct.TimeType()\n",
    "\n",
    "\n",
    "class CurrentTimestamp(Function):\n",
    "    @staticmethod\n",
    "    def infer_type(arg) -> ct.TimestampType:\n",
    "        return ct.TimestampType()\n",
    "\n",
    "\n",
    "class DateAdd(Function):\n",
    "    @staticmethod\n",
    "    def infer_type(arg) -> ct.DateType:\n",
    "        return ct.DateType()\n",
    "\n",
    "\n",
    "class DateSub(Function):\n",
    "    @staticmethod\n",
    "    def infer_type(arg) -> ct.DateType:\n",
    "        return ct.DateType()\n",
    "\n",
    "\n",
    "class DateDiff(Function):\n",
    "    @staticmethod\n",
    "    def infer_type(arg) -> ct.IntegerType:\n",
    "        return ct.IntegerType()\n",
    "\n",
    "\n",
    "class DatetimeAdd(Function):\n",
    "    @staticmethod\n",
    "    def infer_type(arg) -> ct.TimestampType:\n",
    "        return ct.TimestampType()\n",
    "\n",
    "\n",
    "class DatetimeSub(Function):\n",
    "    @staticmethod\n",
    "    def infer_type(arg) -> ct.TimestampType:\n",
    "        return ct.TimestampType()\n",
    "\n",
    "\n",
    "class DatetimeDiff(Function):\n",
    "    @staticmethod\n",
    "    def infer_type(arg) -> ct.IntegerType:\n",
    "        return ct.IntegerType()\n",
    "\n",
    "\n",
    "class Extract(Function):\n",
    "    @staticmethod\n",
    "    def infer_type(arg) -> ct.IntegerType:\n",
    "        return ct.IntegerType()\n",
    "\n",
    "\n",
    "class TimestampAdd(Function):\n",
    "    @staticmethod\n",
    "    def infer_type(arg) -> ct.TimestampType:\n",
    "        return ct.TimestampType()\n",
    "\n",
    "\n",
    "class TimestampSub(Function):\n",
    "    @staticmethod\n",
    "    def infer_type(arg) -> ct.TimestampType:\n",
    "        return ct.TimestampType()\n",
    "\n",
    "\n",
    "class TimestampDiff(Function):\n",
    "    @staticmethod\n",
    "    def infer_type(arg) -> ct.IntegerType:\n",
    "        return ct.IntegerType()\n",
    "\n",
    "\n",
    "class TimeAdd(Function):\n",
    "    @staticmethod\n",
    "    def infer_type(arg) -> ct.TimestampType:\n",
    "        return ct.TimestampType()\n",
    "\n",
    "\n",
    "class TimeSub(Function):\n",
    "    @staticmethod\n",
    "    def infer_type(arg) -> ct.TimestampType:\n",
    "        return ct.TimestampType()\n",
    "\n",
    "\n",
    "class TimeDiff(Function):\n",
    "    @staticmethod\n",
    "    def infer_type(arg) -> ct.IntegerType:\n",
    "        return ct.IntegerType()\n",
    "\n",
    "\n",
    "class DateStrToDate(Function):\n",
    "    @staticmethod\n",
    "    def infer_type(arg) -> ct.DateType:\n",
    "        return ct.DateType()\n",
    "\n",
    "\n",
    "class DateToDateStr(Function):\n",
    "    @staticmethod\n",
    "    def infer_type(arg) -> ct.StringType:\n",
    "        return ct.StringType()\n",
    "\n",
    "\n",
    "class DateToDi(Function):\n",
    "    @staticmethod\n",
    "    def infer_type(arg) -> ct.IntegerType:\n",
    "        return ct.IntegerType()\n",
    "\n",
    "\n",
    "class Day(Function):\n",
    "    @staticmethod\n",
    "    def infer_type(arg) -> ct.IntegerType:\n",
    "        return ct.IntegerType()\n",
    "\n",
    "\n",
    "class DiToDate(Function):\n",
    "    @staticmethod\n",
    "    def infer_type(arg) -> ct.DateType:\n",
    "        return ct.DateType()\n",
    "\n",
    "\n",
    "class Exp(Function):\n",
    "    @staticmethod\n",
    "    def infer_type(arg) -> ct.DoubleType:\n",
    "        return ct.DoubleType()\n",
    "\n",
    "\n",
    "class Floor(Function):\n",
    "    @staticmethod\n",
    "    def infer_type(arg) -> ct.IntegerType:\n",
    "        return ct.IntegerType()"
   ]
  },
  {
   "cell_type": "code",
   "execution_count": 3,
   "id": "47ed01af",
   "metadata": {},
   "outputs": [],
   "source": [
    "from typing import ClassVar"
   ]
  },
  {
   "cell_type": "code",
   "execution_count": null,
   "id": "4c4ee213",
   "metadata": {},
   "outputs": [],
   "source": [
    "Here is some sample code of sql functions in my function registry: ```class Function(abc.ABC):  # pylint: disable=too-few-public-methods\n",
    "    \"\"\"\n",
    "    A DJ function.\n",
    "    \"\"\"\n",
    "    \n",
    "    is_aggregation: ClassVar[bool] = False\n",
    "\n",
    "    @staticmethod\n",
    "    @abc.abstractmethod\n",
    "    def infer_type(*args: ct.ColumnType) -> ct.ColumnType:\n",
    "        \"\"\"\n",
    "        Infers the return type of the function based on the input type.\n",
    "        \"\"\"\n",
    "        raise NotImplementedError(\"Subclass MUST implement infer_type\")\n",
    "\n",
    "class Avg(Function):\n",
    "    \"\"\"\n",
    "    Computes the average of the input column or expression.\n",
    "    \"\"\"\n",
    "    is_aggregation = True\n",
    "    \n",
    "    @staticmethod\n",
    "    def infer_type(arg) -> ct.DoubleType:\n",
    "        return ct.DoubleType()\n",
    "\n",
    "\n",
    "class Min(Function):\n",
    "    \"\"\"\n",
    "    Computes the minimum value of the input column or expression.\n",
    "    \"\"\"\n",
    "    is_aggregation = True\n",
    "    \n",
    "    @staticmethod\n",
    "    def infer_type(arg) -> ct.ColumnType:\n",
    "        return arg\n",
    "\n",
    "\n",
    "class Max(Function):\n",
    "    \"\"\"\n",
    "    Computes the maximum value of the input column or expression.\n",
    "    \"\"\"\n",
    "    is_aggregation = True\n",
    "    \n",
    "    @staticmethod\n",
    "    def infer_type(arg) -> ct.ColumnType:\n",
    "        return arg\n",
    "\n",
    "\n",
    "class Sum(Function):\n",
    "    \"\"\"\n",
    "    Computes the sum of the input column or expression.\n",
    "    \"\"\"\n",
    "    is_aggregation = True\n",
    "    \n",
    "    @staticmethod\n",
    "    def infer_type(arg) -> ct.ColumnType:\n",
    "        return arg\n",
    "\n",
    "\n",
    "class Ceil(Function):\n",
    "    \"\"\"\n",
    "    Computes the smallest integer greater than or equal to the input value.\n",
    "    \"\"\"\n",
    "    @staticmethod\n",
    "    def infer_type(arg) -> ct.IntegerType:\n",
    "        return ct.IntegerType()\n",
    "\n",
    "\n",
    "class Count(Function):\n",
    "    \"\"\"\n",
    "    Counts the number of non-null values in the input column or expression.\n",
    "    \"\"\"\n",
    "    is_aggregation = True\n",
    "    \n",
    "    @staticmethod\n",
    "    def infer_type(arg) -> ct.LongType:\n",
    "        return ct.LongType()\n",
    "\n",
    "\n",
    "class CurrentDate(Function):\n",
    "    \"\"\"\n",
    "    Returns the current date.\n",
    "    \"\"\"\n",
    "    @staticmethod\n",
    "    def infer_type() -> ct.DateType:\n",
    "        return ct.DateType()\n",
    "\n",
    "\n",
    "class CurrentDatetime(Function):\n",
    "    \"\"\"\n",
    "    Returns the current date and time.\n",
    "    \"\"\"\n",
    "    @staticmethod\n",
    "    def infer_type() -> ct.TimestampType:\n",
    "        return ct.TimestampType()\n",
    "\n",
    "\n",
    "class CurrentTime(Function):\n",
    "    \"\"\"\n",
    "    Returns the current time.\n",
    "    \"\"\"\n",
    "    @staticmethod\n",
    "    def infer_type() -> ct.TimeType:\n",
    "        return ct.TimeType()\n",
    "\n",
    "\n",
    "class CurrentTimestamp(Function):\n",
    "    \"\"\"\n",
    "    Returns the current timestamp.\n",
    "    \"\"\"\n",
    "    @staticmethod\n",
    "    def infer_type() -> ct.TimestampType:\n",
    "        return ct.TimestampType()\n",
    "\n",
    "class DateAdd(Function):\n",
    "    \"\"\"\n",
    "    Adds a specified number of days to a date.\n",
    "    \"\"\"\n",
    "    @staticmethod\n",
    "    def infer_type(*args) -> ct.DateType:\n",
    "        return ct.DateType()\n",
    "\n",
    "\n",
    "class DateSub(Function):\n",
    "    \"\"\"\n",
    "    Subtracts a specified number of days from a date.\n",
    "    \"\"\"\n",
    "    @staticmethod\n",
    "    def infer_type(*args) -> ct.DateType:\n",
    "        return ct.DateType()\n",
    "\n",
    "\n",
    "``` can you implement the classes for just those types that have a corresponding sql function (so not case, if, etc) from this: ```        exp.Coalesce: lambda self, expr: self._annotate_by_args(expr, \"this\", \"expressions\"),\n",
    "\n",
    "\n",
    "        exp.StddevPop: lambda self, expr: self._annotate_with_type(expr, exp.DataType.Type.DOUBLE),\n",
    "        exp.StddevSamp: lambda self, expr: self._annotate_with_type(expr, exp.DataType.Type.DOUBLE),\n",
    "        exp.TimeToStr: lambda self, expr: self._annotate_with_type(expr, exp.DataType.Type.VARCHAR),\n",
    "        exp.TimeToTimeStr: lambda self, expr: self._annotate_with_type(\n",
    "            expr, exp.DataType.Type.VARCHAR\n",
    "        ),\n",
    "        exp.TimeStrToDate: lambda self, expr: self._annotate_with_type(\n",
    "            expr, exp.DataType.Type.DATE\n",
    "        ),\n",
    "        exp.TimeStrToTime: lambda self, expr: self._annotate_with_type(\n",
    "            expr, exp.DataType.Type.TIMESTAMP\n",
    "        ),\n",
    "        exp.Trim: lambda self, expr: self._annotate_with_type(expr, exp.DataType.Type.VARCHAR),\n",
    "        exp.TsOrDsToDateStr: lambda self, expr: self._annotate_with_type(\n",
    "            expr, exp.DataType.Type.VARCHAR\n",
    "        ),\n",
    "        exp.TsOrDsToDate: lambda self, expr: self._annotate_with_type(expr, exp.DataType.Type.DATE),\n",
    "        exp.TsOrDiToDi: lambda self, expr: self._annotate_with_type(expr, exp.DataType.Type.INT),\n",
    "        exp.UnixToStr: lambda self, expr: self._annotate_with_type(expr, exp.DataType.Type.VARCHAR),\n",
    "        exp.UnixToTime: lambda self, expr: self._annotate_with_type(\n",
    "            expr, exp.DataType.Type.TIMESTAMP\n",
    "        ),\n",
    "        exp.UnixToTimeStr: lambda self, expr: self._annotate_with_type(\n",
    "            expr, exp.DataType.Type.VARCHAR\n",
    "        ),\n",
    "        exp.Upper: lambda self, expr: self._annotate_with_type(expr, exp.DataType.Type.VARCHAR),\n",
    "        exp.Variance: lambda self, expr: self._annotate_with_type(expr, exp.DataType.Type.DOUBLE),\n",
    "        exp.VariancePop: lambda self, expr: self._annotate_with_type(\n",
    "            expr, exp.DataType.Type.DOUBLE\n",
    "        ),\n",
    "        exp.Week: lambda self, expr: self._annotate_with_type(expr, exp.DataType.Type.TINYINT),\n",
    "        exp.Year: lambda self, expr: self._annotate_with_type(expr, exp.DataType.Type.TINYINT),\n",
    "    }```"
   ]
  }
 ],
 "metadata": {
  "kernelspec": {
   "display_name": "Python 3 (ipykernel)",
   "language": "python",
   "name": "python3"
  },
  "language_info": {
   "codemirror_mode": {
    "name": "ipython",
    "version": 3
   },
   "file_extension": ".py",
   "mimetype": "text/x-python",
   "name": "python",
   "nbconvert_exporter": "python",
   "pygments_lexer": "ipython3",
   "version": "3.10.10"
  }
 },
 "nbformat": 4,
 "nbformat_minor": 5
}
