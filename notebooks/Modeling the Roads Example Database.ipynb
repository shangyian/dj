{
 "cells": [
  {
   "cell_type": "markdown",
   "id": "1e59e4df",
   "metadata": {},
   "source": [
    "# Modeling the Roads Example Database"
   ]
  },
  {
   "cell_type": "markdown",
   "id": "0df819ea",
   "metadata": {},
   "source": [
    "![dj-roads-erd](./images/dj-roads-erd.jpg)\n",
    "*note: open in a new tab to see at full-resolution*"
   ]
  },
  {
   "cell_type": "code",
   "execution_count": null,
   "id": "ba3ff960",
   "metadata": {},
   "outputs": [],
   "source": [
    "import requests\n",
    "\n",
    "DJ_PROTOCOL = \"http\"\n",
    "DJ_HOST = \"localhost\"\n",
    "DJ_PORT = 8000\n",
    "DJ_URL = f\"{DJ_PROTOCOL}://{DJ_HOST}:{DJ_PORT}\""
   ]
  },
  {
   "cell_type": "markdown",
   "id": "9b9ee60b",
   "metadata": {},
   "source": [
    "# Add a Catalog and an Engine\n",
    "\n",
    "In DJ, all nodes used in a query must share a common catalog. Before creating source nodes, add a `default` catalog and a spark engine to the system."
   ]
  },
  {
   "cell_type": "code",
   "execution_count": null,
   "id": "da86a1ec",
   "metadata": {},
   "outputs": [],
   "source": [
    "response = requests.post(  # Add a catalog named public\n",
    "    f\"{DJ_URL}/catalogs/\",\n",
    "    json={\"name\": \"default\"},\n",
    ")\n",
    "print(response.json())\n",
    "response = requests.post(  # Add spark as an engine\n",
    "    f\"{DJ_URL}/engines/\",\n",
    "    json={\"name\": \"spark\", \"version\": \"3.1.1\"},\n",
    ")\n",
    "print(response.json())\n",
    "response = requests.post(  # Attach the spark engine to the public catalog\n",
    "    f\"{DJ_URL}/catalogs/default/engines/\",\n",
    "    json=[{\"name\": \"spark\", \"version\": \"3.1.1\"}],\n",
    ")\n",
    "print(response.json())"
   ]
  },
  {
   "cell_type": "markdown",
   "id": "eebb213d",
   "metadata": {},
   "source": [
    "# Create Source Nodes\n",
    "Create twelve source nodes for each of the tables in the DJ roads example database."
   ]
  },
  {
   "cell_type": "code",
   "execution_count": null,
   "id": "4b6e7674",
   "metadata": {},
   "outputs": [],
   "source": [
    "response = requests.post(\n",
    "    f\"{DJ_URL}/nodes/\",\n",
    "    json={\n",
    "        \"columns\": {\n",
    "            \"repair_order_id\": {\"type\": \"INT\"},\n",
    "            \"municipality_id\": {\"type\": \"STR\"},\n",
    "            \"hard_hat_id\": {\"type\": \"INT\"},\n",
    "            \"order_date\": {\"type\": \"DATETIME\"},\n",
    "            \"required_date\": {\"type\": \"DATETIME\"},\n",
    "            \"dispatched_date\": {\"type\": \"DATETIME\"},\n",
    "            \"dispatcher_id\": {\"type\": \"INT\"},\n",
    "        },\n",
    "        \"description\": \"Repair orders\",\n",
    "        \"mode\": \"published\",\n",
    "        \"name\": \"repair_orders\",\n",
    "        \"type\": \"source\",\n",
    "        \"catalog\": \"default\",\n",
    "        \"schema_\": \"roads\",\n",
    "        \"table\": \"repair_order_details\",\n",
    "    },\n",
    ")\n",
    "response.json()"
   ]
  },
  {
   "cell_type": "code",
   "execution_count": null,
   "id": "99812125",
   "metadata": {},
   "outputs": [],
   "source": [
    "response = requests.post(\n",
    "    f\"{DJ_URL}/nodes/\",\n",
    "    json={\n",
    "        \"columns\": {\n",
    "            \"repair_order_id\": {\"type\": \"INT\"},\n",
    "            \"repair_type_id\": {\"type\": \"INT\"},\n",
    "            \"price\": {\"type\": \"FLOAT\"},\n",
    "            \"quantity\": {\"type\": \"INT\"},\n",
    "            \"discount\": {\"type\": \"FLOAT\"},\n",
    "        },\n",
    "        \"description\": \"Details on repair orders\",\n",
    "        \"mode\": \"published\",\n",
    "        \"name\": \"repair_order_details\",\n",
    "        \"type\": \"source\",\n",
    "        \"catalog\": \"default\",\n",
    "        \"schema_\": \"roads\",\n",
    "        \"table\": \"repair_order_details\",\n",
    "    },\n",
    ")\n",
    "response.json()"
   ]
  },
  {
   "cell_type": "code",
   "execution_count": null,
   "id": "122440f9",
   "metadata": {},
   "outputs": [],
   "source": [
    "response = requests.post(\n",
    "    f\"{DJ_URL}/nodes/\",\n",
    "    json={\n",
    "        \"columns\": {\n",
    "            \"repair_type_id\": {\"type\": \"INT\"},\n",
    "            \"repair_type_name\": {\"type\": \"STR\"},\n",
    "            \"contractor_id\": {\"type\": \"INT\"},\n",
    "        },\n",
    "        \"description\": \"Information on different types of repairs\",\n",
    "        \"mode\": \"published\",\n",
    "        \"name\": \"repair_type\",\n",
    "        \"type\": \"source\",\n",
    "        \"catalog\": \"default\",\n",
    "        \"schema_\": \"roads\",\n",
    "        \"table\": \"repair_type\",\n",
    "    },\n",
    ")\n",
    "response.json()"
   ]
  },
  {
   "cell_type": "code",
   "execution_count": null,
   "id": "b4092b42",
   "metadata": {},
   "outputs": [],
   "source": [
    "response = requests.post(\n",
    "    f\"{DJ_URL}/nodes/\",\n",
    "    json={\n",
    "        \"columns\": {\n",
    "            \"contractor_id\": {\"type\": \"INT\"},\n",
    "            \"company_name\": {\"type\": \"STR\"},\n",
    "            \"contact_name\": {\"type\": \"STR\"},\n",
    "            \"contact_title\": {\"type\": \"STR\"},\n",
    "            \"address\": {\"type\": \"STR\"},\n",
    "            \"city\": {\"type\": \"STR\"},\n",
    "            \"state\": {\"type\": \"STR\"},\n",
    "            \"postal_code\": {\"type\": \"STR\"},\n",
    "            \"country\": {\"type\": \"STR\"},\n",
    "            \"phone\": {\"type\": \"STR\"},\n",
    "        },\n",
    "        \"description\": \"Information on different types of repairs\",\n",
    "        \"mode\": \"published\",\n",
    "        \"name\": \"contractors\",\n",
    "        \"type\": \"source\",\n",
    "        \"catalog\": \"default\",\n",
    "        \"schema_\": \"roads\",\n",
    "        \"table\": \"contractors\",\n",
    "    },\n",
    ")\n",
    "response.json()"
   ]
  },
  {
   "cell_type": "code",
   "execution_count": null,
   "id": "05cc34e6",
   "metadata": {},
   "outputs": [],
   "source": [
    "response = requests.post(\n",
    "    f\"{DJ_URL}/nodes/\",\n",
    "    json={\n",
    "        \"columns\": {\n",
    "            \"municipality_id\": {\"type\": \"STR\"},\n",
    "            \"municipality_type_id\": {\"type\": \"STR\"},\n",
    "        },\n",
    "        \"description\": \"Information on different types of repairs\",\n",
    "        \"mode\": \"published\",\n",
    "        \"name\": \"municipality_municipality_type\",\n",
    "        \"type\": \"source\",\n",
    "        \"catalog\": \"default\",\n",
    "        \"schema_\": \"roads\",\n",
    "        \"table\": \"municipality_municipality_type\",\n",
    "    },\n",
    ")\n",
    "response.json()"
   ]
  },
  {
   "cell_type": "code",
   "execution_count": null,
   "id": "9dc5d78b",
   "metadata": {},
   "outputs": [],
   "source": [
    "response = requests.post(\n",
    "    f\"{DJ_URL}/nodes/\",\n",
    "    json={\n",
    "        \"columns\": {\n",
    "            \"municipality_type_id\": {\"type\": \"STR\"},\n",
    "            \"municipality_type_desc\": {\"type\": \"STR\"},\n",
    "        },\n",
    "        \"description\": \"Information on different types of repairs\",\n",
    "        \"mode\": \"published\",\n",
    "        \"name\": \"municipality_type\",\n",
    "        \"type\": \"source\",\n",
    "        \"catalog\": \"default\",\n",
    "        \"schema_\": \"roads\",\n",
    "        \"table\": \"municipality_type\",\n",
    "    },\n",
    ")\n",
    "response.json()"
   ]
  },
  {
   "cell_type": "code",
   "execution_count": null,
   "id": "c20728c0",
   "metadata": {},
   "outputs": [],
   "source": [
    "response = requests.post(\n",
    "    f\"{DJ_URL}/nodes/\",\n",
    "    json={\n",
    "        \"columns\": {\n",
    "            \"municipality_id\": {\"type\": \"STR\"},\n",
    "            \"contact_name\": {\"type\": \"STR\"},\n",
    "            \"contact_title\": {\"type\": \"STR\"},\n",
    "            \"local_region\": {\"type\": \"STR\"},\n",
    "            \"phone\": {\"type\": \"STR\"},\n",
    "            \"state_id\": {\"type\": \"INT\"},\n",
    "        },\n",
    "        \"description\": \"Information on different types of repairs\",\n",
    "        \"mode\": \"published\",\n",
    "        \"name\": \"municipality\",\n",
    "        \"type\": \"source\",\n",
    "        \"catalog\": \"default\",\n",
    "        \"schema_\": \"roads\",\n",
    "        \"table\": \"municipality\",\n",
    "    },\n",
    ")\n",
    "response.json()"
   ]
  },
  {
   "cell_type": "code",
   "execution_count": null,
   "id": "b876fc24",
   "metadata": {},
   "outputs": [],
   "source": [
    "response = requests.post(\n",
    "    f\"{DJ_URL}/nodes/\",\n",
    "    json={\n",
    "        \"columns\": {\n",
    "            \"dispatcher_id\": {\"type\": \"INT\"},\n",
    "            \"company_name\": {\"type\": \"STR\"},\n",
    "            \"phone\": {\"type\": \"STR\"},\n",
    "        },\n",
    "        \"description\": \"Information on different types of repairs\",\n",
    "        \"mode\": \"published\",\n",
    "        \"name\": \"dispatchers\",\n",
    "        \"type\": \"source\",\n",
    "        \"catalog\": \"default\",\n",
    "        \"schema_\": \"roads\",\n",
    "        \"table\": \"dispatchers\",\n",
    "    },\n",
    ")\n",
    "response.json()"
   ]
  },
  {
   "cell_type": "code",
   "execution_count": null,
   "id": "1cc47895",
   "metadata": {},
   "outputs": [],
   "source": [
    "response = requests.post(\n",
    "    f\"{DJ_URL}/nodes/\",\n",
    "    json={\n",
    "        \"columns\": {\n",
    "            \"hard_hat_id\": {\"type\": \"INT\"},\n",
    "            \"last_name\": {\"type\": \"STR\"},\n",
    "            \"first_name\": {\"type\": \"STR\"},\n",
    "            \"title\": {\"type\": \"STR\"},\n",
    "            \"birth_date\": {\"type\": \"DATETIME\"},\n",
    "            \"hire_date\": {\"type\": \"DATETIME\"},\n",
    "            \"address\": {\"type\": \"STR\"},\n",
    "            \"city\": {\"type\": \"STR\"},\n",
    "            \"state\": {\"type\": \"STR\"},\n",
    "            \"postal_code\": {\"type\": \"STR\"},\n",
    "            \"country\": {\"type\": \"STR\"},\n",
    "            \"manager\": {\"type\": \"INT\"},\n",
    "            \"contractor_id\": {\"type\": \"INT\"},\n",
    "        },\n",
    "        \"description\": \"Information on different types of repairs\",\n",
    "        \"mode\": \"published\",\n",
    "        \"name\": \"hard_hats\",\n",
    "        \"type\": \"source\",\n",
    "        \"catalog\": \"default\",\n",
    "        \"schema_\": \"roads\",\n",
    "        \"table\": \"hard_hats\",\n",
    "    },\n",
    ")\n",
    "response.json()"
   ]
  },
  {
   "cell_type": "code",
   "execution_count": null,
   "id": "87aeb9b6",
   "metadata": {},
   "outputs": [],
   "source": [
    "response = requests.post(\n",
    "    f\"{DJ_URL}/nodes/\",\n",
    "    json={\n",
    "        \"columns\": {\n",
    "            \"hard_hat_id\": {\"type\": \"INT\"},\n",
    "            \"state_id\": {\"type\": \"STR\"},\n",
    "        },\n",
    "        \"description\": \"Information on different types of repairs\",\n",
    "        \"mode\": \"published\",\n",
    "        \"name\": \"hard_hat_state\",\n",
    "        \"type\": \"source\",\n",
    "        \"catalog\": \"default\",\n",
    "        \"schema_\": \"roads\",\n",
    "        \"table\": \"hard_hat_state\",\n",
    "    },\n",
    ")\n",
    "response.json()"
   ]
  },
  {
   "cell_type": "code",
   "execution_count": null,
   "id": "310c9ef4",
   "metadata": {},
   "outputs": [],
   "source": [
    "response = requests.post(\n",
    "    f\"{DJ_URL}/nodes/\",\n",
    "    json={\n",
    "        \"columns\": {\n",
    "            \"state_id\": {\"type\": \"INT\"},\n",
    "            \"state_name\": {\"type\": \"STR\"},\n",
    "            \"state_abbr\": {\"type\": \"STR\"},\n",
    "            \"state_region\": {\"type\": \"INT\"},\n",
    "        },\n",
    "        \"description\": \"Information on different types of repairs\",\n",
    "        \"mode\": \"published\",\n",
    "        \"name\": \"us_states\",\n",
    "        \"type\": \"source\",\n",
    "        \"catalog\": \"default\",\n",
    "        \"schema_\": \"roads\",\n",
    "        \"table\": \"us_states\",\n",
    "    },\n",
    ")\n",
    "response.json()"
   ]
  },
  {
   "cell_type": "code",
   "execution_count": null,
   "id": "b7ce8d9d",
   "metadata": {},
   "outputs": [],
   "source": [
    "response = requests.post(\n",
    "    f\"{DJ_URL}/nodes/\",\n",
    "    json={\n",
    "        \"columns\": {\n",
    "            \"us_region_id\": {\"type\": \"INT\"},\n",
    "            \"us_region_description\": {\"type\": \"STR\"},\n",
    "        },\n",
    "        \"description\": \"Information on different types of repairs\",\n",
    "        \"mode\": \"published\",\n",
    "        \"name\": \"us_region\",\n",
    "        \"type\": \"source\",\n",
    "        \"catalog\": \"default\",\n",
    "        \"schema_\": \"roads\",\n",
    "        \"table\": \"us_region\",\n",
    "    },\n",
    ")\n",
    "response.json()"
   ]
  },
  {
   "cell_type": "markdown",
   "id": "7a1c79a5",
   "metadata": {},
   "source": [
    "# Create Dimension Nodes\n",
    "\n",
    "Dimension nodes are how you represent dimensions in the data model and can be defined using any SQL, including filters as well as joins to source nodes, transform nodes, and other dimension nodes."
   ]
  },
  {
   "cell_type": "code",
   "execution_count": null,
   "id": "41d414c3",
   "metadata": {},
   "outputs": [],
   "source": [
    "response = requests.post(\n",
    "    f\"{DJ_URL}/nodes/\",\n",
    "    json={\n",
    "        \"description\": \"Repair order dimension\",\n",
    "        \"query\": \"\"\"\n",
    "            SELECT\n",
    "            repair_order_id,\n",
    "            municipality_id,\n",
    "            hard_hat_id,\n",
    "            dispatcher_id\n",
    "            FROM repair_orders\n",
    "        \"\"\",\n",
    "        \"mode\": \"published\",\n",
    "        \"name\": \"repair_order\",\n",
    "        \"type\": \"dimension\",\n",
    "    },\n",
    ")\n",
    "response.json()"
   ]
  },
  {
   "cell_type": "code",
   "execution_count": null,
   "id": "4b61a229",
   "metadata": {},
   "outputs": [],
   "source": [
    "response = requests.post(\n",
    "    f\"{DJ_URL}/nodes/\",\n",
    "    json={\n",
    "        \"description\": \"Contractor dimension\",\n",
    "        \"query\": \"\"\"\n",
    "            SELECT\n",
    "            contractor_id,\n",
    "            company_name,\n",
    "            contact_name,\n",
    "            contact_title,\n",
    "            address,\n",
    "            city,\n",
    "            state,\n",
    "            postal_code,\n",
    "            country,\n",
    "            phone\n",
    "            FROM contractors\n",
    "        \"\"\",\n",
    "        \"mode\": \"published\",\n",
    "        \"name\": \"contractor\",\n",
    "        \"type\": \"dimension\",\n",
    "    },\n",
    ")\n",
    "response.json()"
   ]
  },
  {
   "cell_type": "code",
   "execution_count": null,
   "id": "9a866d4a",
   "metadata": {},
   "outputs": [],
   "source": [
    "response = requests.post(\n",
    "    f\"{DJ_URL}/nodes/\",\n",
    "    json={\n",
    "        \"description\": \"Hard hat dimension\",\n",
    "        \"query\": \"\"\"\n",
    "            SELECT\n",
    "            hard_hat_id,\n",
    "            last_name,\n",
    "            first_name,\n",
    "            title,\n",
    "            birth_date,\n",
    "            hire_date,\n",
    "            address,\n",
    "            city,\n",
    "            state,\n",
    "            postal_code,\n",
    "            country,\n",
    "            manager,\n",
    "            contractor_id\n",
    "            FROM hard_hats\n",
    "        \"\"\",\n",
    "        \"mode\": \"published\",\n",
    "        \"name\": \"hard_hat\",\n",
    "        \"type\": \"dimension\",\n",
    "    },\n",
    ")\n",
    "response.json()"
   ]
  },
  {
   "cell_type": "code",
   "execution_count": null,
   "id": "d995d032",
   "metadata": {},
   "outputs": [],
   "source": [
    "response = requests.post(\n",
    "    f\"{DJ_URL}/nodes/\",\n",
    "    json={\n",
    "        \"description\": \"Hard hat dimension\",\n",
    "        \"query\": \"\"\"\n",
    "            SELECT\n",
    "            hh.hard_hat_id,\n",
    "            last_name,\n",
    "            first_name,\n",
    "            title,\n",
    "            birth_date,\n",
    "            hire_date,\n",
    "            address,\n",
    "            city,\n",
    "            state,\n",
    "            postal_code,\n",
    "            country,\n",
    "            manager,\n",
    "            contractor_id,\n",
    "            hhs.state_id AS state_id\n",
    "            FROM hard_hats hh\n",
    "            LEFT JOIN hard_hat_state hhs\n",
    "            ON hh.hard_hat_id = hhs.hard_hat_id\n",
    "            WHERE hh.state_id = 'NY'\n",
    "        \"\"\",\n",
    "        \"mode\": \"published\",\n",
    "        \"name\": \"local_hard_hats\",\n",
    "        \"type\": \"dimension\",\n",
    "    },\n",
    ")\n",
    "response.json()"
   ]
  },
  {
   "cell_type": "code",
   "execution_count": null,
   "id": "0ebaa645",
   "metadata": {},
   "outputs": [],
   "source": [
    "response = requests.post(\n",
    "    f\"{DJ_URL}/nodes/\",\n",
    "    json={\n",
    "        \"description\": \"US state dimension\",\n",
    "        \"query\": \"\"\"\n",
    "            SELECT\n",
    "            state_id,\n",
    "            state_name,\n",
    "            state_abbr,\n",
    "            state_region,\n",
    "            r.us_region_description AS state_region_description\n",
    "            FROM us_states s\n",
    "            LEFT JOIN us_region r\n",
    "            ON s.state_region = r.us_region_id\n",
    "        \"\"\",\n",
    "        \"mode\": \"published\",\n",
    "        \"name\": \"us_state\",\n",
    "        \"type\": \"dimension\",\n",
    "    },\n",
    ")\n",
    "response.json()"
   ]
  },
  {
   "cell_type": "code",
   "execution_count": null,
   "id": "d2105f66",
   "metadata": {},
   "outputs": [],
   "source": [
    "response = requests.post(\n",
    "    f\"{DJ_URL}/nodes/\",\n",
    "    json={\n",
    "        \"description\": \"Dispatcher dimension\",\n",
    "        \"query\": \"\"\"\n",
    "            SELECT\n",
    "            dispatcher_id,\n",
    "            company_name,\n",
    "            phone\n",
    "            FROM dispatchers\n",
    "        \"\"\",\n",
    "        \"mode\": \"published\",\n",
    "        \"name\": \"dispatcher\",\n",
    "        \"type\": \"dimension\",\n",
    "    },\n",
    ")\n",
    "response.json()"
   ]
  },
  {
   "cell_type": "code",
   "execution_count": null,
   "id": "5e5b3210",
   "metadata": {},
   "outputs": [],
   "source": [
    "response = requests.post(\n",
    "    f\"{DJ_URL}/nodes/\",\n",
    "    json={\n",
    "        \"description\": \"Municipality dimension\",\n",
    "        \"query\": \"\"\"\n",
    "            SELECT\n",
    "            m.municipality_id,\n",
    "            contact_name,\n",
    "            contact_title,\n",
    "            local_region,\n",
    "            phone,\n",
    "            state_id,\n",
    "            mmt.municipality_type_id,\n",
    "            mt.municipality_type_desc\n",
    "            FROM municipality AS m\n",
    "            LEFT JOIN municipality_municipality_type AS mmt\n",
    "            ON m.municipality_id = mmt.municipality_id\n",
    "            LEFT JOIN municipality_type AS mt\n",
    "            ON mmt.municipality_type_id = mt.municipality_type_desc\n",
    "        \"\"\",\n",
    "        \"mode\": \"published\",\n",
    "        \"name\": \"municipality_dim\",\n",
    "        \"type\": \"dimension\",\n",
    "    },\n",
    ")\n",
    "response.json()"
   ]
  },
  {
   "cell_type": "markdown",
   "id": "d405291d",
   "metadata": {},
   "source": [
    "# Add Metrics\n",
    "\n",
    "Metrics are defined by writing a SQL query that performs an aggregation function on an expression using columns from any **single** source node, dimension node, or transform node. Here are some metrics that can be added to the DJ server.\n",
    "\n",
    "- `num_repair_orders` - Number of repair orders\n",
    "- `avg_repair_price` - Avg price of a repair order\n",
    "- `total_repair_cost` - Total price of a repair order\n",
    "- `avg_length_of_employment` - Avg length of employment\n",
    "- `total_repair_order_discounts` - Total discounts on repair orders\n",
    "- `avg_repair_order_discounts` - Avg discount on repair orders\n",
    "- `avg_time_to_dispatch` - Avg time to dispatch\n",
    "- `avg_time_to_dispatch_local` - Avg time to dispatch in NYC\n",
    "\n",
    "Each of these metrics can be grouped by any dimensions that are discoverable through dimension labels, such as `municipality`, `state`, `region`, `contractor`, `dispatcher`, or `hard_hat`."
   ]
  },
  {
   "cell_type": "code",
   "execution_count": null,
   "id": "f87bc290",
   "metadata": {},
   "outputs": [],
   "source": [
    "response = requests.post(\n",
    "    f\"{DJ_URL}/nodes/\",\n",
    "    json={\n",
    "        \"description\": \"Number of repair orders\",\n",
    "        \"query\": \"SELECT count(repair_order_id) as num_repair_orders FROM repair_orders\",\n",
    "        \"mode\": \"published\",\n",
    "        \"name\": \"num_repair_orders\",\n",
    "        \"type\": \"metric\",\n",
    "    },\n",
    ")\n",
    "response.json()"
   ]
  },
  {
   "cell_type": "code",
   "execution_count": null,
   "id": "be519eac",
   "metadata": {},
   "outputs": [],
   "source": [
    "response = requests.post(\n",
    "    f\"{DJ_URL}/nodes/\",\n",
    "    json={\n",
    "        \"description\": \"Average repair price\",\n",
    "        \"query\": \"SELECT avg(price) as avg_repair_price FROM repair_order_details\",\n",
    "        \"mode\": \"published\",\n",
    "        \"name\": \"avg_repair_price\",\n",
    "        \"type\": \"metric\",\n",
    "    },\n",
    ")\n",
    "response.json()"
   ]
  },
  {
   "cell_type": "code",
   "execution_count": null,
   "id": "a8d229c3",
   "metadata": {},
   "outputs": [],
   "source": [
    "response = requests.post(\n",
    "    f\"{DJ_URL}/nodes/\",\n",
    "    json={\n",
    "        \"description\": \"Total repair cost\",\n",
    "        \"query\": \"SELECT sum(price) as total_repair_cost FROM repair_order_details\",\n",
    "        \"mode\": \"published\",\n",
    "        \"name\": \"total_repair_cost\",\n",
    "        \"type\": \"metric\",\n",
    "    },\n",
    ")\n",
    "response.json()"
   ]
  },
  {
   "cell_type": "code",
   "execution_count": null,
   "id": "ebaa0482",
   "metadata": {},
   "outputs": [],
   "source": [
    "response = requests.post(\n",
    "    f\"{DJ_URL}/nodes/\",\n",
    "    json={\n",
    "        \"description\": \"Average length of employment\",\n",
    "        \"query\": \"SELECT avg(NOW() - hire_date) as avg_length_of_employment FROM hard_hats\",\n",
    "        \"mode\": \"published\",\n",
    "        \"name\": \"avg_length_of_employment\",\n",
    "        \"type\": \"metric\",\n",
    "    },\n",
    ")\n",
    "response.json()"
   ]
  },
  {
   "cell_type": "code",
   "execution_count": null,
   "id": "0144baf7",
   "metadata": {},
   "outputs": [],
   "source": [
    "response = requests.post(\n",
    "    f\"{DJ_URL}/nodes/\",\n",
    "    json={\n",
    "        \"description\": \"Total repair order discounts\",\n",
    "        \"query\": \"SELECT sum(price * discount) as total_discount FROM repair_order_details\",\n",
    "        \"mode\": \"published\",\n",
    "        \"name\": \"total_repair_order_discounts\",\n",
    "        \"type\": \"metric\",\n",
    "    },\n",
    ")\n",
    "response.json()"
   ]
  },
  {
   "cell_type": "code",
   "execution_count": null,
   "id": "fce8e1f7",
   "metadata": {},
   "outputs": [],
   "source": [
    "response = requests.post(\n",
    "    f\"{DJ_URL}/nodes/\",\n",
    "    json={\n",
    "        \"description\": \"Total repair order discounts\",\n",
    "        \"query\": \"SELECT avg(price * discount) as avg_repair_order_discount FROM repair_order_details\",\n",
    "        \"mode\": \"published\",\n",
    "        \"name\": \"avg_repair_order_discounts\",\n",
    "        \"type\": \"metric\",\n",
    "    },\n",
    ")\n",
    "response.json()"
   ]
  },
  {
   "cell_type": "code",
   "execution_count": null,
   "id": "cbba1585",
   "metadata": {},
   "outputs": [],
   "source": [
    "response = requests.post(\n",
    "    f\"{DJ_URL}/nodes/\",\n",
    "    json={\n",
    "        \"description\": \"Average time to dispatch a repair order\",\n",
    "        \"query\": \"SELECT avg(dispatched_date - order_date) as avg_time_to_dispatch FROM repair_orders\",\n",
    "        \"mode\": \"published\",\n",
    "        \"name\": \"avg_time_to_dispatch\",\n",
    "        \"type\": \"metric\",\n",
    "    },\n",
    ")\n",
    "response.json()"
   ]
  },
  {
   "cell_type": "markdown",
   "id": "a2edbf18",
   "metadata": {},
   "source": [
    "# Link Columns to Dimension Nodes\n",
    "\n",
    "Dimensions are discovered through labels on node columns throughout the DJ DAG. These labels link these columns to the primary key(s) of the dimension node. Create links to all columns in the DJ DAG to their corresponding dimension nodes."
   ]
  },
  {
   "cell_type": "code",
   "execution_count": null,
   "id": "2bf208cc",
   "metadata": {},
   "outputs": [],
   "source": [
    "response = requests.post(\n",
    "    f\"{DJ_URL}/nodes/repair_order_details/columns/repair_order_id/?dimension=repair_order&dimension_column=repair_order_id\"\n",
    ")\n",
    "response.json()"
   ]
  },
  {
   "cell_type": "code",
   "execution_count": null,
   "id": "e5fe02fe",
   "metadata": {},
   "outputs": [],
   "source": [
    "response = requests.post(\n",
    "    f\"{DJ_URL}/nodes/repair_orders/columns/municipality_id/?dimension=municipality_dim&dimension_column=municipality_id\"\n",
    ")\n",
    "response.json()"
   ]
  },
  {
   "cell_type": "code",
   "execution_count": null,
   "id": "5237f6f3",
   "metadata": {},
   "outputs": [],
   "source": [
    "response = requests.post(\n",
    "    f\"{DJ_URL}/nodes/repair_type/columns/contractor_id/?dimension=contractor&dimension_column=contractor_id\"\n",
    ")\n",
    "response.json()"
   ]
  },
  {
   "cell_type": "code",
   "execution_count": null,
   "id": "e3370384",
   "metadata": {},
   "outputs": [],
   "source": [
    "response = requests.post(\n",
    "    f\"{DJ_URL}/nodes/repair_orders/columns/hard_hat_id/?dimension=hard_hat&dimension_column=hard_hat_id\"\n",
    ")\n",
    "response.json()"
   ]
  },
  {
   "cell_type": "code",
   "execution_count": null,
   "id": "bb441b50",
   "metadata": {},
   "outputs": [],
   "source": [
    "response = requests.post(\n",
    "    f\"{DJ_URL}/nodes/repair_orders/columns/dispatcher_id/?dimension=dispatcher&dimension_column=dispatcher_id\"\n",
    ")\n",
    "response.json()"
   ]
  },
  {
   "cell_type": "code",
   "execution_count": null,
   "id": "ab3ffde2",
   "metadata": {},
   "outputs": [],
   "source": [
    "response = requests.post(\n",
    "    f\"{DJ_URL}/nodes/local_hard_hats/columns/state_id/?dimension=us_state&dimension_column=state_id\"\n",
    ")\n",
    "response.json()"
   ]
  },
  {
   "cell_type": "markdown",
   "id": "c7c11045",
   "metadata": {},
   "source": [
    "# View All Existing Nodes\n",
    "\n",
    "Let's look at the full list of nodes that are now in the DJ system and can be used to generate queries."
   ]
  },
  {
   "cell_type": "code",
   "execution_count": null,
   "id": "f3f61edb",
   "metadata": {},
   "outputs": [],
   "source": [
    "nodes = requests.get(f\"{DJ_URL}/nodes/\").json()\n",
    "for i in sorted([f\"{node['type']} -> {node['name']}\" for node in nodes]):\n",
    "    print(i)"
   ]
  },
  {
   "cell_type": "markdown",
   "id": "b94aede1",
   "metadata": {},
   "source": [
    "# Generate SQL Using Metrics & Dimensions\n",
    "\n",
    "You can now generate SQL queries for any metric and include any of the discoverable dimensions that you'd like to group it by. Let's list out the dimensions that are available for each metric in DJ."
   ]
  },
  {
   "cell_type": "code",
   "execution_count": null,
   "id": "ccb90f88",
   "metadata": {
    "scrolled": false
   },
   "outputs": [],
   "source": [
    "for metric in [\n",
    "    \"avg_length_of_employment\",\n",
    "    \"avg_repair_order_discounts\",\n",
    "    \"avg_repair_price\",\n",
    "    \"avg_time_to_dispatch\",\n",
    "    \"num_repair_orders\",\n",
    "    \"total_repair_cost\",\n",
    "    \"total_repair_order_discounts\",\n",
    "]:\n",
    "    response = requests.get(\n",
    "        f\"{DJ_URL}/metrics/{metric}/\",\n",
    "    )\n",
    "    metric_metadata = response.json()\n",
    "    print(metric)\n",
    "    print(\"---\")\n",
    "    for dimension in metric_metadata[\"dimensions\"]:\n",
    "        print(dimension)\n",
    "    print()"
   ]
  },
  {
   "cell_type": "markdown",
   "id": "f949edf8",
   "metadata": {},
   "source": [
    "### Using the metric SQL endpoint, let's generate some SQL for a few metrics, grouped by dimensions."
   ]
  },
  {
   "cell_type": "code",
   "execution_count": null,
   "id": "22f78085",
   "metadata": {},
   "outputs": [],
   "source": [
    "response = requests.get(\n",
    "    f\"{DJ_URL}/metrics/num_repair_orders/sql/?dimensions=hard_hat.first_name,hard_hat.last_name&check_database_online=false\",\n",
    ")\n",
    "print(response.json()[\"sql\"])"
   ]
  },
  {
   "cell_type": "code",
   "execution_count": null,
   "id": "960b072c",
   "metadata": {},
   "outputs": [],
   "source": [
    "response = requests.get(\n",
    "    f\"{DJ_URL}/metrics/total_repair_order_discounts/sql/?dimensions=repair_order.hard_hat_id&check_database_online=false\",\n",
    ")\n",
    "print(response.json()[\"sql\"])"
   ]
  },
  {
   "cell_type": "code",
   "execution_count": null,
   "id": "edb60b48",
   "metadata": {},
   "outputs": [],
   "source": [
    "response = requests.get(\n",
    "    f\"{DJ_URL}/metrics/avg_time_to_dispatch/sql/?dimensions=hard_hat.state&check_database_online=false\",\n",
    ")\n",
    "print(response.json()[\"sql\"])"
   ]
  },
  {
   "cell_type": "markdown",
   "id": "7ef4c069",
   "metadata": {},
   "source": [
    "response = requests.get(\n",
    "    f\"{DJ_URL}/metrics/avg_repair_price/sql/?dimensions=repair_order.municipality_id&check_database_online=false\",\n",
    ")\n",
    "print(response.json()[\"sql\"])"
   ]
  },
  {
   "cell_type": "markdown",
   "id": "9d79622a",
   "metadata": {},
   "source": [
    "# Report Materializations by Setting Availability on a Node"
   ]
  },
  {
   "cell_type": "markdown",
   "id": "d65c0337",
   "metadata": {},
   "source": [
    "### Materializations can be reported by adding an `availability` to a node. When DJ builds the query, it will use any availability states it finds. Let's add an availability to the `repair_order` dimension node."
   ]
  },
  {
   "cell_type": "code",
   "execution_count": null,
   "id": "0de9f612",
   "metadata": {},
   "outputs": [],
   "source": [
    "# Add an availability for the contractor dimension node\n",
    "response = requests.post(\n",
    "    f\"{DJ_URL}/data/availability/repair_order/\",\n",
    "    json = {\n",
    "        \"catalog\": \"default\",\n",
    "        \"schema_\": \"roads\",\n",
    "        \"table\": \"repair_order_materialization_123\",\n",
    "        \"valid_through_ts\": 20230306,\n",
    "        \"max_partition\": [\"20230305\"],\n",
    "        \"min_partition\": [\"20230304\"],\n",
    "    }\n",
    ")\n",
    "response.json()"
   ]
  },
  {
   "cell_type": "markdown",
   "id": "aae078e9",
   "metadata": {},
   "source": [
    "### Now the same request that incldues the `repair_order` dimension will use the `availability` that it finds."
   ]
  },
  {
   "cell_type": "code",
   "execution_count": null,
   "id": "c069f3ff",
   "metadata": {},
   "outputs": [],
   "source": [
    "response = requests.get(\n",
    "    f\"{DJ_URL}/metrics/avg_repair_price/sql/?dimensions=repair_order.municipality_id&check_database_online=false\",\n",
    ")\n",
    "print(response.json()[\"sql\"])"
   ]
  },
  {
   "cell_type": "code",
   "execution_count": null,
   "id": "e8d50157",
   "metadata": {},
   "outputs": [],
   "source": []
  }
 ],
 "metadata": {
  "kernelspec": {
   "display_name": "Python 3 (ipykernel)",
   "language": "python",
   "name": "python3"
  },
  "language_info": {
   "codemirror_mode": {
    "name": "ipython",
    "version": 3
   },
   "file_extension": ".py",
   "mimetype": "text/x-python",
   "name": "python",
   "nbconvert_exporter": "python",
   "pygments_lexer": "ipython3",
   "version": "3.10.9"
  }
 },
 "nbformat": 4,
 "nbformat_minor": 5
}
