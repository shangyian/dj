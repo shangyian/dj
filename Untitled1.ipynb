{
 "cells": [
  {
   "cell_type": "code",
   "execution_count": 3,
   "id": "e4fb4b04",
   "metadata": {},
   "outputs": [],
   "source": [
    "from dj.sql.parsing.backends.antlr4 import parse, ast, visit, sbp, parse_statement"
   ]
  },
  {
   "cell_type": "code",
   "execution_count": 4,
   "id": "724adfd7",
   "metadata": {},
   "outputs": [],
   "source": [
    "query = \"select distinct x  k, x-`s-t`.a.y exp,  count(*) from s-t.a order by tbl.x desc NULLS LAST limit 20\""
   ]
  },
  {
   "cell_type": "code",
   "execution_count": 5,
   "id": "9f2ea365",
   "metadata": {},
   "outputs": [],
   "source": [
    "query =\"\"\"\n",
    "SELECT id, col\n",
    "FROM mytable\n",
    "LATERAL VIEW outer EXPLODE(data) mytable_exploded AS col;\n",
    "\"\"\""
   ]
  },
  {
   "cell_type": "code",
   "execution_count": 6,
   "id": "a776fb7b",
   "metadata": {},
   "outputs": [],
   "source": [
    "query=\"\"\"Select suit, exploded_rank, exploded_rank2\n",
    "from sredai.suites_and_ranks_arrays\n",
    "CROSS JOIN UNNEST(rank) as t(exploded_rank)\n",
    "ORDER BY suit;\"\"\""
   ]
  },
  {
   "cell_type": "code",
   "execution_count": 7,
   "id": "8939f8c6",
   "metadata": {},
   "outputs": [],
   "source": [
    "query=\"\"\"\n",
    "SELECT *\n",
    "FROM customers\n",
    "JOIN orders ON customers.id = orders.customer_id\n",
    "JOIN order_items ON orders.id = order_items.order_id\n",
    "JOIN products ON order_items.product_id = products.id\n",
    "WHERE customers.country = 'USA'\n",
    "\"\"\""
   ]
  },
  {
   "cell_type": "code",
   "execution_count": null,
   "id": "6e57a22e",
   "metadata": {},
   "outputs": [],
   "source": [
    "tree = parse(query)"
   ]
  },
  {
   "cell_type": "code",
   "execution_count": 17,
   "id": "cf766fc8",
   "metadata": {},
   "outputs": [
    {
     "name": "stdout",
     "output_type": "stream",
     "text": [
      "\n",
      "\n",
      "SELECT  suit,\n",
      "\texploded_rank,\n",
      "\texploded_rank2 \n",
      " FROM sredai.suites_and_ranks_arrays\n",
      "CROSS JOIN UNNEST(rank) AS t(exploded_rank)\n",
      "ORDER BY suit\n",
      "\n"
     ]
    }
   ],
   "source": [
    "print(tree)"
   ]
  },
  {
   "cell_type": "code",
   "execution_count": 35,
   "id": "0a316e6c",
   "metadata": {},
   "outputs": [
    {
     "data": {
      "text/plain": [
       "[Join(join_type='CROSS', right=FunctionTable(name=Name(name='UNNEST', quote_style='', namespace=None), column_list=[Column(name=Name(name='exploded_rank', quote_style='', namespace=None), _api_column=False)], args=[Column(name=Name(name='rank', quote_style='', namespace=None), _api_column=False)]), criteria=None, lateral=False, natural=False)]"
      ]
     },
     "execution_count": 35,
     "metadata": {},
     "output_type": "execute_result"
    }
   ],
   "source": [
    "tree.select.from_.joins"
   ]
  },
  {
   "cell_type": "code",
   "execution_count": 13,
   "id": "4b211e28",
   "metadata": {},
   "outputs": [],
   "source": [
    "sbp.JoinRelationContext??"
   ]
  },
  {
   "cell_type": "code",
   "execution_count": 9,
   "id": "39012904",
   "metadata": {},
   "outputs": [
    {
     "name": "stdout",
     "output_type": "stream",
     "text": [
      "\n",
      "\n",
      "SELECT  suit,\n",
      "\texploded_rank,\n",
      "\texploded_rank2 \n",
      " FROM sredai.suites_and_ranks_arrays\n",
      "CROSS JOIN UNNEST(rank)\n",
      "ORDER BY suit\n",
      "\n"
     ]
    }
   ],
   "source": [
    "print(parse(query))"
   ]
  },
  {
   "cell_type": "code",
   "execution_count": null,
   "id": "297a86a1",
   "metadata": {},
   "outputs": [],
   "source": [
    "print(parse(str(parse(query))))"
   ]
  },
  {
   "cell_type": "code",
   "execution_count": null,
   "id": "266bc993",
   "metadata": {},
   "outputs": [],
   "source": []
  },
  {
   "cell_type": "code",
   "execution_count": 17,
   "id": "9de9ad5b",
   "metadata": {},
   "outputs": [],
   "source": [
    "ast_=parse(query)"
   ]
  },
  {
   "cell_type": "code",
   "execution_count": 20,
   "id": "da03b0a8",
   "metadata": {},
   "outputs": [
    {
     "data": {
      "text/plain": [
       "'x - `s-t`.a.y AS exp'"
      ]
     },
     "execution_count": 20,
     "metadata": {},
     "output_type": "execute_result"
    }
   ],
   "source": [
    "str(ast_.select.projection[1].set_alias(ast.Name('exp')))"
   ]
  },
  {
   "cell_type": "code",
   "execution_count": 23,
   "id": "168dc0ff",
   "metadata": {},
   "outputs": [
    {
     "data": {
      "text/plain": [
       "'select'"
      ]
     },
     "execution_count": 23,
     "metadata": {},
     "output_type": "execute_result"
    }
   ],
   "source": [
    "ast_.select.parent_key"
   ]
  },
  {
   "cell_type": "code",
   "execution_count": 24,
   "id": "be67568e",
   "metadata": {},
   "outputs": [
    {
     "data": {
      "text/plain": [
       "Select(alias=None, quantifier='DISTINCT', projection=[Column(name=Name(name='x', quote_style='', namespace=None), alias=Name(name='k', quote_style='', namespace=None), _api_column=False), BinaryOp(op='-', left=Column(name=Name(name='x', quote_style='', namespace=None), alias=None, _api_column=False), right=Column(name=Name(name='y', quote_style='', namespace=Name(name='a', quote_style='', namespace=Name(name='s-t', quote_style='`', namespace=None))), alias=None, _api_column=False)), Function(name=Name(name='count', quote_style='', namespace=None), args=[Wildcard()], quantifier='', over=None)], from_=From(tables=[Table(name=Name(name='a', quote_style='', namespace=Name(name='s-t', quote_style='\"', namespace=None)), alias=None)], joins=[], laterals=[]), group_by=[], having=None, where=None, set_op=None)"
      ]
     },
     "execution_count": 24,
     "metadata": {},
     "output_type": "execute_result"
    }
   ],
   "source": [
    "getattr(ast_, 'select')"
   ]
  },
  {
   "cell_type": "code",
   "execution_count": 26,
   "id": "da0545fb",
   "metadata": {},
   "outputs": [
    {
     "data": {
      "text/plain": [
       "True"
      ]
     },
     "execution_count": 26,
     "metadata": {},
     "output_type": "execute_result"
    }
   ],
   "source": [
    "isinstance([1,2,3], (list, tuple, set))"
   ]
  },
  {
   "cell_type": "code",
   "execution_count": 28,
   "id": "4c766d2e",
   "metadata": {},
   "outputs": [
    {
     "name": "stdout",
     "output_type": "stream",
     "text": [
      "Collecting sqlglot\n",
      "  Downloading sqlglot-11.3.7-py3-none-any.whl (238 kB)\n",
      "\u001b[2K     \u001b[90m━━━━━━━━━━━━━━━━━━━━━━━━━━━━━━━━━━━━━━━\u001b[0m \u001b[32m238.2/238.2 kB\u001b[0m \u001b[31m2.3 MB/s\u001b[0m eta \u001b[36m0:00:00\u001b[0ma \u001b[36m0:00:01\u001b[0m\n",
      "\u001b[?25hInstalling collected packages: sqlglot\n",
      "Successfully installed sqlglot-11.3.7\n",
      "\u001b[33mWARNING: Running pip as the 'root' user can result in broken permissions and conflicting behaviour with the system package manager. It is recommended to use a virtual environment instead: https://pip.pypa.io/warnings/venv\u001b[0m\u001b[33m\n",
      "\u001b[0m"
     ]
    }
   ],
   "source": [
    "!pip install sqlglot"
   ]
  },
  {
   "cell_type": "code",
   "execution_count": 32,
   "id": "755bdbd7",
   "metadata": {},
   "outputs": [],
   "source": [
    "query='''SELECT id, col\n",
    "FROM mytable\n",
    "LATERAL VIEW EXPLODE(data) mytable_exploded AS col;'''"
   ]
  },
  {
   "cell_type": "code",
   "execution_count": 8,
   "id": "13c7e2c4",
   "metadata": {},
   "outputs": [],
   "source": [
    "from sqlglot import parse_one, transpile"
   ]
  },
  {
   "cell_type": "code",
   "execution_count": 40,
   "id": "45de5651",
   "metadata": {},
   "outputs": [
    {
     "data": {
      "text/plain": [
       "['SELECT id, col FROM mytable CROSS JOIN UNNEST(data) AS mytable_exploded(col)']"
      ]
     },
     "execution_count": 40,
     "metadata": {},
     "output_type": "execute_result"
    }
   ],
   "source": [
    "transpile(query, read='spark', write='trino')"
   ]
  },
  {
   "cell_type": "code",
   "execution_count": 49,
   "id": "d2181dce",
   "metadata": {},
   "outputs": [],
   "source": [
    "query='''\n",
    "SELECT id, col FROM mytable CROSS JOIN UNNEST(data) AS mytable_exploded(col)\n",
    "'''"
   ]
  },
  {
   "cell_type": "code",
   "execution_count": 50,
   "id": "fe5eb44a",
   "metadata": {},
   "outputs": [
    {
     "data": {
      "text/plain": [
       "['SELECT id, col FROM mytable LATERAL VIEW EXPLODE(data) mytable_exploded AS col']"
      ]
     },
     "execution_count": 50,
     "metadata": {},
     "output_type": "execute_result"
    }
   ],
   "source": [
    "transpile(query, read='trino', write='spark')"
   ]
  },
  {
   "cell_type": "code",
   "execution_count": 43,
   "id": "b1cde07e",
   "metadata": {},
   "outputs": [],
   "source": [
    "query=\"\"\"Select Name,Emp_id,expertise,phone_num\n",
    "from Employee\n",
    "CROSS JOIN UNNEST(Subject, Phone) as t(expertise,phone_num)\"\"\""
   ]
  },
  {
   "cell_type": "code",
   "execution_count": 44,
   "id": "008faa17",
   "metadata": {},
   "outputs": [
    {
     "data": {
      "text/plain": [
       "['SELECT Name, Emp_id, expertise, phone_num FROM Employee LATERAL VIEW EXPLODE(Subject) t AS expertise LATERAL VIEW EXPLODE(Phone) t AS phone_num']"
      ]
     },
     "execution_count": 44,
     "metadata": {},
     "output_type": "execute_result"
    }
   ],
   "source": [
    "transpile(query, read='trino', write='spark')"
   ]
  },
  {
   "cell_type": "code",
   "execution_count": 45,
   "id": "29208910",
   "metadata": {},
   "outputs": [],
   "source": [
    "query='SELECT Name, Emp_id, expertise, phone_num FROM Employee LATERAL VIEW EXPLODE(Subject) t AS expertise LATERAL VIEW EXPLODE(Phone) t AS phone_num'"
   ]
  },
  {
   "cell_type": "code",
   "execution_count": 46,
   "id": "9b0ce5da",
   "metadata": {},
   "outputs": [
    {
     "data": {
      "text/plain": [
       "['SELECT Name, Emp_id, expertise, phone_num FROM Employee CROSS JOIN UNNEST(Subject) AS t(expertise) CROSS JOIN UNNEST(Phone) AS t(phone_num)']"
      ]
     },
     "execution_count": 46,
     "metadata": {},
     "output_type": "execute_result"
    }
   ],
   "source": [
    "transpile(query, read='spark', write='trino')"
   ]
  }
 ],
 "metadata": {
  "kernelspec": {
   "display_name": "Python 3 (ipykernel)",
   "language": "python",
   "name": "python3"
  },
  "language_info": {
   "codemirror_mode": {
    "name": "ipython",
    "version": 3
   },
   "file_extension": ".py",
   "mimetype": "text/x-python",
   "name": "python",
   "nbconvert_exporter": "python",
   "pygments_lexer": "ipython3",
   "version": "3.10.10"
  }
 },
 "nbformat": 4,
 "nbformat_minor": 5
}
