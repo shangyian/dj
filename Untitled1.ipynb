{
 "cells": [
  {
   "cell_type": "code",
   "execution_count": 15,
   "id": "3600c1a4",
   "metadata": {},
   "outputs": [],
   "source": [
    "from dj.sql.parsing.backends.antlr4 import parse, ast"
   ]
  },
  {
   "cell_type": "code",
   "execution_count": 9,
   "id": "4466377f",
   "metadata": {},
   "outputs": [],
   "source": [
    "query = \"select distinct x  k, x-`s-t`.a.y exp,  count(*) from s-t.a order by tbl.x desc NULLS LAST limit 20\""
   ]
  },
  {
   "cell_type": "code",
   "execution_count": 10,
   "id": "4dfe2619",
   "metadata": {},
   "outputs": [
    {
     "name": "stdout",
     "output_type": "stream",
     "text": [
      "\n",
      "\n",
      "SELECT  DISTINCT\n",
      " x AS k,\n",
      "\tx - `s-t`.a.y,\n",
      "\tcount(*) \n",
      " FROM \"s-t\".a\n",
      "ORDER BY tbl.x DESC NULLS LAST\n",
      "LIMIT 20\n"
     ]
    }
   ],
   "source": [
    "print(parse(str(parse(query))))"
   ]
  },
  {
   "cell_type": "code",
   "execution_count": 17,
   "id": "58b8fb42",
   "metadata": {},
   "outputs": [],
   "source": [
    "ast_=parse(query)"
   ]
  },
  {
   "cell_type": "code",
   "execution_count": 19,
   "id": "0c9222a9",
   "metadata": {},
   "outputs": [
    {
     "data": {
      "text/plain": [
       "'x - `s-t`.a.y AS exp'"
      ]
     },
     "execution_count": 19,
     "metadata": {},
     "output_type": "execute_result"
    }
   ],
   "source": [
    "str(ast_.select.projection[1].set_alias(ast.Name('exp')))"
   ]
  },
  {
   "cell_type": "code",
   "execution_count": null,
   "id": "d820923e",
   "metadata": {},
   "outputs": [],
   "source": []
  }
 ],
 "metadata": {
  "kernelspec": {
   "display_name": "Python 3 (ipykernel)",
   "language": "python",
   "name": "python3"
  },
  "language_info": {
   "codemirror_mode": {
    "name": "ipython",
    "version": 3
   },
   "file_extension": ".py",
   "mimetype": "text/x-python",
   "name": "python",
   "nbconvert_exporter": "python",
   "pygments_lexer": "ipython3",
   "version": "3.10.10"
  }
 },
 "nbformat": 4,
 "nbformat_minor": 5
}
