{
 "cells": [
  {
   "cell_type": "code",
   "execution_count": 1,
   "id": "ef8ba770",
   "metadata": {},
   "outputs": [
    {
     "ename": "IndentationError",
     "evalue": "expected an indented block after 'if' statement on line 1227 (ast2.py, line 1229)",
     "output_type": "error",
     "traceback": [
      "Traceback \u001b[0;36m(most recent call last)\u001b[0m:\n",
      "\u001b[0m  File \u001b[1;32m/usr/local/lib/python3.10/site-packages/IPython/core/interactiveshell.py:3460\u001b[0m in \u001b[1;35mrun_code\u001b[0m\n    exec(code_obj, self.user_global_ns, self.user_ns)\u001b[0m\n",
      "\u001b[0m  Cell \u001b[1;32mIn[1], line 1\u001b[0m\n    from dj.sql.parsing.backends.antlr4 import parse\u001b[0m\n",
      "\u001b[0;36m  File \u001b[0;32m/code/dj/sql/parsing/backends/antlr4.py:13\u001b[0;36m\n\u001b[0;31m    from dj.sql.parsing import ast2 as ast\u001b[0;36m\n",
      "\u001b[0;36m  File \u001b[0;32m/code/dj/sql/parsing/ast2.py:1229\u001b[0;36m\u001b[0m\n\u001b[0;31m    if not isinstance(expression, (Column, Alias)):\u001b[0m\n\u001b[0m    ^\u001b[0m\n\u001b[0;31mIndentationError\u001b[0m\u001b[0;31m:\u001b[0m expected an indented block after 'if' statement on line 1227\n"
     ]
    }
   ],
   "source": [
    "from dj.sql.parsing.backends.antlr4 import parse"
   ]
  },
  {
   "cell_type": "code",
   "execution_count": null,
   "id": "1024462c",
   "metadata": {},
   "outputs": [],
   "source": [
    "query = \"select distinct x as k, x-`s-t`.a.y,  count(*) from s-t.a order by x desc NULLS LAST limit 20\""
   ]
  },
  {
   "cell_type": "code",
   "execution_count": null,
   "id": "9218e0d4",
   "metadata": {},
   "outputs": [
    {
     "name": "stdout",
     "output_type": "stream",
     "text": [
      "> \u001b[0;32m/code/dj/sql/parsing/backends/antlr4.py\u001b[0m(326)\u001b[0;36m_\u001b[0;34m()\u001b[0m\n",
      "\u001b[0;32m    324 \u001b[0;31m\u001b[0;32mdef\u001b[0m \u001b[0m_\u001b[0m\u001b[0;34m(\u001b[0m\u001b[0mctx\u001b[0m\u001b[0;34m:\u001b[0m \u001b[0msbp\u001b[0m\u001b[0;34m.\u001b[0m\u001b[0mNamedExpressionContext\u001b[0m\u001b[0;34m)\u001b[0m\u001b[0;34m:\u001b[0m\u001b[0;34m\u001b[0m\u001b[0;34m\u001b[0m\u001b[0m\n",
      "\u001b[0m\u001b[0;32m    325 \u001b[0;31m    \u001b[0;32mimport\u001b[0m \u001b[0mpdb\u001b[0m\u001b[0;34m;\u001b[0m \u001b[0mpdb\u001b[0m\u001b[0;34m.\u001b[0m\u001b[0mset_trace\u001b[0m\u001b[0;34m(\u001b[0m\u001b[0;34m)\u001b[0m\u001b[0;34m\u001b[0m\u001b[0;34m\u001b[0m\u001b[0m\n",
      "\u001b[0m\u001b[0;32m--> 326 \u001b[0;31m    \u001b[0mexpr\u001b[0m \u001b[0;34m=\u001b[0m \u001b[0mvisit\u001b[0m\u001b[0;34m(\u001b[0m\u001b[0mctx\u001b[0m\u001b[0;34m.\u001b[0m\u001b[0mexpression\u001b[0m\u001b[0;34m(\u001b[0m\u001b[0;34m)\u001b[0m\u001b[0;34m)\u001b[0m\u001b[0;34m\u001b[0m\u001b[0;34m\u001b[0m\u001b[0m\n",
      "\u001b[0m\u001b[0;32m    327 \u001b[0;31m    \u001b[0;32mif\u001b[0m \u001b[0malias\u001b[0m\u001b[0;34m:=\u001b[0m \u001b[0mctx\u001b[0m\u001b[0;34m.\u001b[0m\u001b[0mname\u001b[0m\u001b[0;34m:\u001b[0m\u001b[0;34m\u001b[0m\u001b[0;34m\u001b[0m\u001b[0m\n",
      "\u001b[0m\u001b[0;32m    328 \u001b[0;31m        \u001b[0mexpr\u001b[0m\u001b[0;34m.\u001b[0m\u001b[0mset_alias\u001b[0m\u001b[0;34m(\u001b[0m\u001b[0mvisit\u001b[0m\u001b[0;34m(\u001b[0m\u001b[0malias\u001b[0m\u001b[0;34m)\u001b[0m\u001b[0;34m)\u001b[0m\u001b[0;34m\u001b[0m\u001b[0;34m\u001b[0m\u001b[0m\n",
      "\u001b[0m\n",
      "ipdb> n\n",
      "> \u001b[0;32m/code/dj/sql/parsing/backends/antlr4.py\u001b[0m(327)\u001b[0;36m_\u001b[0;34m()\u001b[0m\n",
      "\u001b[0;32m    325 \u001b[0;31m    \u001b[0;32mimport\u001b[0m \u001b[0mpdb\u001b[0m\u001b[0;34m;\u001b[0m \u001b[0mpdb\u001b[0m\u001b[0;34m.\u001b[0m\u001b[0mset_trace\u001b[0m\u001b[0;34m(\u001b[0m\u001b[0;34m)\u001b[0m\u001b[0;34m\u001b[0m\u001b[0;34m\u001b[0m\u001b[0m\n",
      "\u001b[0m\u001b[0;32m    326 \u001b[0;31m    \u001b[0mexpr\u001b[0m \u001b[0;34m=\u001b[0m \u001b[0mvisit\u001b[0m\u001b[0;34m(\u001b[0m\u001b[0mctx\u001b[0m\u001b[0;34m.\u001b[0m\u001b[0mexpression\u001b[0m\u001b[0;34m(\u001b[0m\u001b[0;34m)\u001b[0m\u001b[0;34m)\u001b[0m\u001b[0;34m\u001b[0m\u001b[0;34m\u001b[0m\u001b[0m\n",
      "\u001b[0m\u001b[0;32m--> 327 \u001b[0;31m    \u001b[0;32mif\u001b[0m \u001b[0malias\u001b[0m\u001b[0;34m:=\u001b[0m \u001b[0mctx\u001b[0m\u001b[0;34m.\u001b[0m\u001b[0mname\u001b[0m\u001b[0;34m:\u001b[0m\u001b[0;34m\u001b[0m\u001b[0;34m\u001b[0m\u001b[0m\n",
      "\u001b[0m\u001b[0;32m    328 \u001b[0;31m        \u001b[0mexpr\u001b[0m\u001b[0;34m.\u001b[0m\u001b[0mset_alias\u001b[0m\u001b[0;34m(\u001b[0m\u001b[0mvisit\u001b[0m\u001b[0;34m(\u001b[0m\u001b[0malias\u001b[0m\u001b[0;34m)\u001b[0m\u001b[0;34m)\u001b[0m\u001b[0;34m\u001b[0m\u001b[0;34m\u001b[0m\u001b[0m\n",
      "\u001b[0m\u001b[0;32m    329 \u001b[0;31m    \u001b[0;32mreturn\u001b[0m \u001b[0mexpr\u001b[0m\u001b[0;34m\u001b[0m\u001b[0;34m\u001b[0m\u001b[0m\n",
      "\u001b[0m\n",
      "ipdb> expr\n",
      "Column(name=Name(name='x', quote_style='', namespace=None), alias=None, _api_column=False)\n",
      "ipdb> n\n",
      "> \u001b[0;32m/code/dj/sql/parsing/backends/antlr4.py\u001b[0m(328)\u001b[0;36m_\u001b[0;34m()\u001b[0m\n",
      "\u001b[0;32m    326 \u001b[0;31m    \u001b[0mexpr\u001b[0m \u001b[0;34m=\u001b[0m \u001b[0mvisit\u001b[0m\u001b[0;34m(\u001b[0m\u001b[0mctx\u001b[0m\u001b[0;34m.\u001b[0m\u001b[0mexpression\u001b[0m\u001b[0;34m(\u001b[0m\u001b[0;34m)\u001b[0m\u001b[0;34m)\u001b[0m\u001b[0;34m\u001b[0m\u001b[0;34m\u001b[0m\u001b[0m\n",
      "\u001b[0m\u001b[0;32m    327 \u001b[0;31m    \u001b[0;32mif\u001b[0m \u001b[0malias\u001b[0m\u001b[0;34m:=\u001b[0m \u001b[0mctx\u001b[0m\u001b[0;34m.\u001b[0m\u001b[0mname\u001b[0m\u001b[0;34m:\u001b[0m\u001b[0;34m\u001b[0m\u001b[0;34m\u001b[0m\u001b[0m\n",
      "\u001b[0m\u001b[0;32m--> 328 \u001b[0;31m        \u001b[0mexpr\u001b[0m\u001b[0;34m.\u001b[0m\u001b[0mset_alias\u001b[0m\u001b[0;34m(\u001b[0m\u001b[0mvisit\u001b[0m\u001b[0;34m(\u001b[0m\u001b[0malias\u001b[0m\u001b[0;34m)\u001b[0m\u001b[0;34m)\u001b[0m\u001b[0;34m\u001b[0m\u001b[0;34m\u001b[0m\u001b[0m\n",
      "\u001b[0m\u001b[0;32m    329 \u001b[0;31m    \u001b[0;32mreturn\u001b[0m \u001b[0mexpr\u001b[0m\u001b[0;34m\u001b[0m\u001b[0;34m\u001b[0m\u001b[0m\n",
      "\u001b[0m\u001b[0;32m    330 \u001b[0;31m\u001b[0;34m\u001b[0m\u001b[0m\n",
      "\u001b[0m\n",
      "ipdb> visit(alias)\n",
      "Name(name='k', quote_style='', namespace=None)\n",
      "ipdb> n\n",
      "> \u001b[0;32m/code/dj/sql/parsing/backends/antlr4.py\u001b[0m(329)\u001b[0;36m_\u001b[0;34m()\u001b[0m\n",
      "\u001b[0;32m    327 \u001b[0;31m    \u001b[0;32mif\u001b[0m \u001b[0malias\u001b[0m\u001b[0;34m:=\u001b[0m \u001b[0mctx\u001b[0m\u001b[0;34m.\u001b[0m\u001b[0mname\u001b[0m\u001b[0;34m:\u001b[0m\u001b[0;34m\u001b[0m\u001b[0;34m\u001b[0m\u001b[0m\n",
      "\u001b[0m\u001b[0;32m    328 \u001b[0;31m        \u001b[0mexpr\u001b[0m\u001b[0;34m.\u001b[0m\u001b[0mset_alias\u001b[0m\u001b[0;34m(\u001b[0m\u001b[0mvisit\u001b[0m\u001b[0;34m(\u001b[0m\u001b[0malias\u001b[0m\u001b[0;34m)\u001b[0m\u001b[0;34m)\u001b[0m\u001b[0;34m\u001b[0m\u001b[0;34m\u001b[0m\u001b[0m\n",
      "\u001b[0m\u001b[0;32m--> 329 \u001b[0;31m    \u001b[0;32mreturn\u001b[0m \u001b[0mexpr\u001b[0m\u001b[0;34m\u001b[0m\u001b[0;34m\u001b[0m\u001b[0m\n",
      "\u001b[0m\u001b[0;32m    330 \u001b[0;31m\u001b[0;34m\u001b[0m\u001b[0m\n",
      "\u001b[0m\u001b[0;32m    331 \u001b[0;31m\u001b[0;34m\u001b[0m\u001b[0m\n",
      "\u001b[0m\n",
      "ipdb> rxpr\n",
      "*** NameError: name 'rxpr' is not defined\n",
      "ipdb> expr.alias\n",
      "Name(name='k', quote_style='', namespace=None)\n"
     ]
    }
   ],
   "source": [
    "print(parse(query))"
   ]
  },
  {
   "cell_type": "code",
   "execution_count": null,
   "id": "72a98099",
   "metadata": {},
   "outputs": [],
   "source": []
  }
 ],
 "metadata": {
  "kernelspec": {
   "display_name": "Python 3 (ipykernel)",
   "language": "python",
   "name": "python3"
  },
  "language_info": {
   "codemirror_mode": {
    "name": "ipython",
    "version": 3
   },
   "file_extension": ".py",
   "mimetype": "text/x-python",
   "name": "python",
   "nbconvert_exporter": "python",
   "pygments_lexer": "ipython3",
   "version": "3.10.10"
  }
 },
 "nbformat": 4,
 "nbformat_minor": 5
}
